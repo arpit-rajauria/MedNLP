{
 "cells": [
  {
   "cell_type": "code",
   "execution_count": 1,
   "metadata": {},
   "outputs": [],
   "source": [
    "import pandas as pd\n",
    "from sklearn.externals import joblib\n",
    "import re\n",
    "from nltk.stem.snowball import SnowballStemmer\n",
    "from collections import defaultdict\n",
    "import operator\n",
    "import numpy as np\n",
    "import sklearn.feature_extraction.text as text\n",
    "from sklearn import decomposition\n",
    "from nltk.stem import PorterStemmer, WordNetLemmatizer"
   ]
  },
  {
   "cell_type": "code",
   "execution_count": 2,
   "metadata": {},
   "outputs": [],
   "source": [
    "base_path = r'D:\\ORGANIZATION\\UCSD_Life\\Work\\4. Quarter-3\\Subjects\\MED 277\\Project\\DATA\\\\'\n",
    "data_file = base_path+\"NOTEEVENTS.csv.gz\""
   ]
  },
  {
   "cell_type": "code",
   "execution_count": 9,
   "metadata": {},
   "outputs": [],
   "source": [
    "df1 =  joblib.load(base_path+'data10.pkl')\n",
    "df = df1[:50]"
   ]
  },
  {
   "cell_type": "code",
   "execution_count": 18,
   "metadata": {},
   "outputs": [],
   "source": [
    "df = df.loc[df['CATEGORY'] == 'Discharge summary'] #Extracting only discharge summaries\n",
    "df_text = df['TEXT']"
   ]
  },
  {
   "cell_type": "markdown",
   "metadata": {},
   "source": [
    "##### START rough work"
   ]
  },
  {
   "cell_type": "code",
   "execution_count": 114,
   "metadata": {
    "collapsed": true
   },
   "outputs": [
    {
     "data": {
      "text/plain": [
       "'Admission Date:  [**2162-3-3**]              Discharge Date:   [**2162-3-25**]\\n\\nDate of Birth:  [**2080-1-4**]             Sex:   M\\n\\nService: MEDICINE\\n\\nAllergies:\\nPatient recorded as having No Known Allergies to Drugs\\n\\nAttending:[**First Name3 (LF) 1828**]\\nChief Complaint:\\nMr. [**Known lastname 1829**] was seen at [**Hospital1 18**] after a mechanical fall from\\na height of 10 feet.  CT scan noted unstable fracture of C6-7 &\\nposterior elements.\\n\\nMajor Surgical or Invasive Procedure:\\n1. Anterior cervical osteotomy, C6-C7, with decompression and\\nexcision of ossification of the posterior longitudinal ligament.\\n2. Anterior cervical deformity correction.\\n3. Interbody reconstruction.\\n4. Anterior cervical fusion, C5-C6-C7.\\n5. Plate instrumentation, C5-C6-C7.\\n6. Cervical laminectomy C6-C7, T1.\\n7. Posterior cervical arthrodesis C4-T1.\\n8. Cervical instrumentation C4-T1.\\n9. Arthrodesis augmentation with autograft, allograft and\\ndemineralized bone matrix.\\n\\n\\nHistory of Present Illness:\\nMr. [**Known lastname 1829**] is a 82 year old male who had a slip and fall\\nof approximately 10 feet from a balcony.  He was ambulatory at\\nthe scene.  He presented to the ED here at [**Hospital1 18**].  CT scan\\nrevealed unstable C spine fracture.  He was intubated secondary\\nto agitation.\\n\\nPatient admitted to trauma surgery service\\n\\nPast Medical History:\\nCoronary artery disease s/p CABG\\nCHF\\nHTN\\nAICD\\nAtrial fibrillation\\nStroke\\n\\nSocial History:\\nPatient recently discharged from [**Hospital1 **] for severe\\ndepression. Family reports patient was very sad and attempted to\\nkill himself by wrapping a telephone cord around his neck. Lives\\nwith his elderly wife, worked as a chemist in [**Country 532**].\\n\\nFamily History:\\nNon contributory\\n\\nPhysical Exam:\\nPhycial exam prior to surgery was not obtained since patient was\\nintubated and sedated.\\n\\nPost surgical physical exam: (TSICU per surgery team)\\n\\nBreathing without assistance\\nNAD\\nVitals: T 97.5, HR 61, BP 145/67, RR22, SaO2 98\\nA-fib, rate controlled\\nAbd soft non-tender\\nAnterior/Posterior cervical incisions [**Name (NI) 1830**]\\nPt is edemitous in all four extremities, no facial edema\\nAble to grossly move all four extremities, neurointact to light\\ntouch\\nDistal pulses weakly intact\\n\\nMedicine Consult:\\nVS: Tm/c 98.9 142/70 61 20 96%RA\\nI/O BM yesterday 220/770\\nGen: awake, calm, cooperative and pleasant, lying in bed\\nNeck: c-collar removed\\nCV: irregular, normal S1, S2. No m/r/g.\\nlungs: cta anteriolry\\nAbd: Obese, Soft, NTND, decreased bs\\nExt: trace b/l le edema, 1+ UE edema\\nneuro/cognition: thought [**3-17**], \"8\", not to place,\\n\\n\\nPertinent Results:\\n====================\\n ADMISSION LABS\\n====================\\n\\nWBC-8.4 RBC-4.43* Hgb-11.9* Hct-38.6* MCV-87 MCH-26.9*\\nMCHC-30.9* RDW-17.3* Plt Ct-191\\nPT-20.4* PTT-28.1 INR(PT)-1.9*\\nCK(CPK)-183* Amylase-70\\nCalcium-8.5 Phos-2.0* Mg-1.9\\nGlucose-121* Lactate-2.3* Na-140 K-4.3 Cl-101 calHCO3-26\\n\\n==================\\n   RADIOLOGY\\n==================\\n\\nCT scan C spine [**2162-3-3**]:\\nIMPRESSION:\\n1.  Fracture of the C6 as described involving the right pedicle\\n(extending to the inferior facet) and left lamina. Anterior\\nwidening at the C6-7 disc space and mild widening of left C6-7\\nfacet also noted. Prevertebral hematoma at C6 with likely\\nrupture of the anterior longitudinal ligament.\\n\\n2.  Lucency in the right posterior C1 ring may represent a\\nchronic injury.\\nLikely old avulsion fracture at T2 pedicle on the left.\\n\\n3. Ossification of both anterior and posterior longitudinal\\nligaments with\\ncompromise of the central spinal canal. Degenerative disease is\\nfurther\\ndescribed above.\\n\\nCT ABDOMEN/PELVIS ([**2162-3-3**])\\nIMPRESSION:\\n1. No acute injuries in the chest, abdomen, or pelvis.\\n2. Three discrete pleural fluid collections in the right\\nhemithorax, likely pseudotumors.\\n3. Small hypodense lesion in the pancreatic body is of unclear\\netiology, may represent pseudicyst or cystic tumor. Further\\nevaluation with MRI may be performed on a non- emergent basis.\\n4. Bilateral renal cysts.\\n5. Foley catheter balloon inflated within the prostatic urethra.\\nRecommend emergent repositioning.\\n\\nCT SINUS/MAXILLOFACIAL ([**2162-3-3**])\\n1. Bilateral nasal bone fractures.\\n2. Left frontal scalp hematoma with preseptal soft tissue\\nswelling. Question foreign body anterior to the left globe.\\nRecommend clinical correlation. Small amount of extraconal\\nhematoma in the superior aspect of the left orbit.\\n3. Linear lucency in the right posterior ring of C1. Correlate\\nwith CT C- spine performed concurrently.\\n\\nHEAD CT ([**2162-3-3**])\\n1. No acute intracranial hemprrhage.\\n2. Left frontal scalp hematoma.\\n3. Nasal bone fractures. Recommend correlation with report from\\nfacial bone CT scan.\\n4. Lucency in the right posterior ring of C1. Please refer to\\ndedeicated CT C-spine for further detail.\\n5. Left cerebellar encephalomalacia, likely due to old\\ninfarction.\\n\\nCHEST [**2162-3-10**]\\nThe Dobbhoff tube passes below the diaphragm with its tip most\\nlikely terminating in the stomach. The bilateral pacemakers are\\ndemonstrated with one lead terminating in right atrium and three\\nleads terminating in right ventricle. The patient is in mild\\npulmonary edema with no change in the loculated pleural fluid\\nwithin the major fissure.\\n\\nCT HEAD [**2162-3-11**]\\n1. A tiny amount of intraventricular hemorrhage layers along the\\noccipital horns of the ventricles bilaterally. Recommend followp\\nimaging.\\n2. Left frontal scalp hematoma has decreased in size.\\n3. Unchanged left cerebellar encephalomalacia.\\n4. Nasal bone fractures are better evaluated on dedicated\\nmaxillofacial CT.\\n\\nRIGHT SHOULDER X-RAY ([**2162-3-11**])\\nMild glenohumeral and acromioclavicular joint osteoarthritis.\\nNonspecific ossification projecting over the upper margin of the\\nscapular body and adjacent to the lesser tuberosity. Diagnostic\\nconsiderations include the sequela of chronic calcific bursitis,\\nintraarticular bodies, and/or calcific tendinitis of the\\nsubscapularis tendon.\\nIncreased opacity projecting over the right hemithorax and minor\\nfissure, better delineated on recent chest radiographs and chest\\nCT\\n\\nRIGHT UPPER EXTREMITY ULTRASOUND ([**2162-3-13**])\\n1. Deep venous thrombosis in the right axillary vein, extending\\nproximally into the right subclavian vein, and distally to\\ninvolve the brachial veins, portion of the basilic vein, and the\\nright cephalic vein.\\n2. Likely 2.0 cm left axillary lymph node, with unusual\\nson[**Name (NI) 493**] features somewhat suspicious for malignancy.\\nFollowup ultrasound is recommended in 4 weeks, and FNA/biopsy\\nmay be considered at that time if no interval improvement.\\n\\n[**2162-3-14**]\\nCT ABDOMEN WITH IV CONTRAST: There are small-to-moderate\\nbilateral pleural effusions, on the right with a loculated\\nappearance. There is associated compressive atelectasis. The\\nvisualized portion of the heart suggests mild cardiomegaly.\\nThere is no pericardial effusion. There is a 9-mm\\nhypoattenuating, well-defined lesion in the left lobe of the\\nliver (2:12) too small to accurately characterize but\\nstatistically most likely representing a cyst. There are\\nbilateral, partially exophytic renal cysts. The spleen is normal\\nin size. There is a 5-mm hypoattenuating focus in the pancreatic\\nbody, most likely representing focal fat. The gallbladder and\\nadrenal glands are unremarkable. An NG tube terminates in the\\nstomach. There is no ascites. The large and small bowel loops\\nappear unremarkable without wall thickening or pneumatosis. Oral\\ncontrast material has passed into the ascending colon without\\nevidence of obstruction. There is no ascites and no free air.\\nThere is a small pocket of air in the left rectus muscle,\\ntracking over a distance of approximately 10 cm.\\n\\nCT PELVIS WITH IV CONTRAST: The pelvic small and large bowel\\nloops, collapsed bladder containing Foley catheter and seminal\\nvesicles appear unremarkable. The prostate is enlarged,\\nmeasuring 5.9 cm in transverse diameter. The rectum contains a\\nmoderate amount of dried stool. There is no free air or free\\nfluid.\\n\\nBONE WINDOWS: No suspicious lytic or sclerotic lesions. There is\\nDISH of the entire visualized thoracolumbar spine. There also\\nare degenerative changes about the hip joints with large\\nacetabular osteophytes.\\n\\nIMPRESSION:\\n1. Stable bilateral pleural effusions, loculated on the right.\\n2. New focus of air tracking within the left rectus muscle with\\nassociated tiny amount of extraperitoneal air (2:53). No\\nassociated stranding or fluid collection. Please correlate\\nclinically if this could be iatrogenic, such as due to s.q.\\ninjections.\\n3. 5-mm hypoattenuating focus in the pancreatic body. This could\\nrepresent focal fat, although a cystic tumor cannot be excluded.\\nIf this is of concern, then MRI is again recommended for further\\nevaluation.\\n4. Hypoattenuating focus in the left lobe of the liver, too\\nsmall to accurately characterize.\\n5. Bilateral partially exophytic renal cysts.\\n6. Moderate amount of dried stool within the rectum.\\n\\nA wet read was placed and the pertinent findings were discussed\\nby Dr. [**First Name (STitle) 1831**] [**Name (STitle) 1832**] with Dr. [**First Name (STitle) 1833**] at 11:30 p.m. on [**2162-3-14**].\\n\\n[**2162-3-16**]\\nVIDEO OROPHARYNGEAL SWALLOW FINDINGS: Real-time video\\nfluoroscopic evaluation was performed after oral administration\\nof thin and puree consistency of barium, in conjunction with the\\nspeech pathologist.\\n\\nORAL PHASE: Normal bolus formation, bolus control, AP tongue\\nmovement, oral transit time, and no oral cavity residue.\\n\\nPHARYNGEAL PHASE: There is normal swallow initiation and velar\\nelevation. There is mild-to-moderate impairment of laryngeal\\nelevation with absent epiglottic deflection. There is\\nmoderate-to-severe increase in pharyngeal transit time. There is\\nresidue in the valleculae and piriform sinuses with moderate\\nimpairment of bolus propulsion. There was aspiration of both\\nthin and puree barium.\\n\\nIMPRESSION: Aspiration of thin liquids and puree. For additional\\ninformation, please see the speech and swallow therapist\\'s\\nreport from the same day.\\n\\n[**2162-3-18**] CT Head w/out:\\nFINDINGS: There is a small amount of blood layering in the\\noccipital horns of both lateral ventricles, unchanged though not\\nas dense given evolution. No new hemorrhage is identified. The\\nventricles, cisterns, and sulci are enlarged secondary to\\ninvolutional change. Periventricular white matter hyperdensities\\nare sequelae of chronic small vessel ischemia. Encephalomalacia\\nin the left cerebellar hemisphere secondary to old infarction is\\nunchanged. The osseous structures are unremarkable. The\\nvisualized paranasal sinuses and mastoid air cells are clear.\\nSkin staples are noted along the superior- posterior neck\\nsecondary to recent spinal surgery.\\n\\nIMPRESSION: No interval change with a very small\\nintraventricular hemorrhage.\\n\\nNo discharge labs as patient CMO.\\n\\nBrief Hospital Course:\\nMr. [**Known lastname 1829**] was seen at [**Hospital1 18**] after his fall from a height\\nof approximatly 10 feet.  CT scans of his chest, abdomen and\\npelvis were negative for pathology.  CT scan of his C-spine\\nshowed fracture of anterior and posterior elements at C6-7.  He\\nwas also shown to have a right nasal bone fracture.\\n\\nC-spine fracture: Mr. [**Known lastname 1829**] [**Last Name (Titles) 1834**] two surgical\\nprocedures to stabilized his c-spine.  [**2162-3-4**]: anterior\\ncervical decompression/fusion at C6-7.  [**2162-3-5**]: Cervical\\nlaminectomy C6-C7 & T1 with Posterior cervical arthrodesis\\nC4-T1.  He tolerated the procedures well.  He was extubated\\nwithout complication.\\n\\nAfter his surgical procedures, Mr. [**Known lastname 1829**] was transfered\\nto the medicine service at [**Hospital1 18**] for his medical care. While on\\nthe medicine service, patient was found to be persistently\\naspirating and failed his speech and swallow evaluation. Patient\\nand family were not interested in an NG tube or PEG for\\nnutrition. Patient also developed a venous clot of the right\\nupper extremity and the decision was made to not proceed with\\nmedical treatment. Goals of care were changed to comfort\\nmeasures only. A foley was placed after patient had difficulty\\nwith urinary retention and straight cathing. A palliative care\\nconsult was obtained for symptom management and patient was\\ndischarged to hospice with morphine, olanzapine, and a foley in\\nplace for symptomatic relief.\\n\\nMedications on Admission:\\nCoumadin\\nseroquel\\ndocusate\\nmetoprolol\\nfolate\\nlovastatin\\ncaptopril\\nASA\\nipratroium inhaler\\nFerrous sulfate\\nfurosemide\\ncitalopram\\nisosorbide\\nmeprazole\\n\\nDischarge Medications:\\n1. Bisacodyl 10 mg Suppository Sig: [**12-30**] Suppositorys Rectal\\nDAILY (Daily) as needed for constipation.\\n2. Ipratropium Bromide 0.02 % Solution Sig: One (1) nebulizer\\nInhalation Q6H (every 6 hours) as needed for wheezing.\\n3. Albuterol Sulfate 2.5 mg/3 mL Solution for Nebulization Sig:\\nOne (1) solution Inhalation Q6H (every 6 hours) as needed for\\nwheezing.\\n4. Morphine Concentrate 20 mg/mL Solution Sig: 5-10 mg PO Q4H\\n(every 4 hours) as needed for pain: may shorten interval as\\nneeded to control pain.\\n5. Olanzapine 5 mg Tablet, Rapid Dissolve Sig: 0.5 Tablet, Rapid\\nDissolve PO QHS (once a day (at bedtime)) as needed for\\nagitation.\\n6. Tamsulosin 0.4 mg Capsule, Sust. Release 24 hr Sig: One (1)\\nCapsule, Sust. Release 24 hr PO DAILY (Daily): may be\\ndiscontinued if patient not tolerating pills or refusing to\\ntake.\\n\\n\\nDischarge Disposition:\\nExtended Care\\n\\nFacility:\\n[**Hospital1 599**] of [**Location (un) 55**]\\n\\nDischarge Diagnosis:\\n1. Cervical spondylosis with calcification of posterior\\nlongitudinal ligament.\\n2. Fracture dislocation C6-C7.\\n3. Ossification of the posterior longitudinal ligament.\\n4. Aspiration Pneumonia\\n\\n\\n1. Cervical spondylosis with calcification of posterior\\n    longitudinal ligament.\\n2. Fracture dislocation C6-C7.\\n3. Ossification of the posterior longitudinal ligament.\\n4. Aspiration Pneumonia\\n\\n1. Cervical spondylosis with calcification of posterior\\n    longitudinal ligament.\\n2. Fracture dislocation C6-C7.\\n3. Ossification of the posterior longitudinal ligament.\\n4. Aspiration Pneumonia\\n\\n\\nDischarge Condition:\\nStable to outside facility\\n\\n\\nDischarge Instructions:\\nPatient has been made CMO at the request of him and his family.\\nHe has a foley placed for urinary retention. Please use morphine\\nas needed for pain and olanzapine as needed for agitiation.\\nPatient has known history of aspiration documented on speech and\\nswallow. It is the patient and the family\\'s wish for him to\\ncontinue to eat and drink as desired.\\n\\nFollowup Instructions:\\nFollow up with your primary care physician as needed.\\n\\n\\n\\n'"
      ]
     },
     "execution_count": 114,
     "metadata": {},
     "output_type": "execute_result"
    }
   ],
   "source": [
    "df_text[4]"
   ]
  },
  {
   "cell_type": "code",
   "execution_count": 165,
   "metadata": {
    "collapsed": true
   },
   "outputs": [
    {
     "name": "stdout",
     "output_type": "stream",
     "text": [
      "Admission Date:  [**2151-7-16**]       Discharge Date:  [**2151-8-4**]\n",
      "\n",
      "\n",
      "Service:\n",
      "ADDENDUM:\n",
      "\n",
      "RADIOLOGIC STUDIES:  Radiologic studies also included a chest\n",
      "CT, which confirmed cavitary lesions in the left lung apex\n",
      "consistent with infectious process/tuberculosis.  This also\n",
      "moderate-sized left pleural effusion.\n",
      "\n",
      "HEAD CT:  Head CT showed no intracranial hemorrhage or mass\n",
      "effect, but old infarction consistent with past medical\n",
      "history.\n",
      "\n",
      "ABDOMINAL CT:  Abdominal CT showed lesions of\n",
      "T10 and sacrum most likely secondary to osteoporosis. These can\n",
      "be followed by repeat imaging as an outpatient.\n",
      "\n",
      "\n",
      "\n",
      "                            [**First Name8 (NamePattern2) **] [**First Name4 (NamePattern1) 1775**] [**Last Name (NamePattern1) **], M.D.  [**MD Number(1) 1776**]\n",
      "\n",
      "Dictated By:[**Hospital 1807**]\n",
      "MEDQUIST36\n",
      "\n",
      "D:  [**2151-8-5**]  12:11\n",
      "T:  [**2151-8-5**]  12:21\n",
      "JOB#:  [**Job Number 1808**]\n",
      "\n"
     ]
    }
   ],
   "source": [
    "print(df_text[0])"
   ]
  },
  {
   "cell_type": "code",
   "execution_count": 158,
   "metadata": {},
   "outputs": [],
   "source": [
    "def get_regex_match(regex, str_arg):\n",
    "    srch = re.search(regex,str_arg)\n",
    "    if srch is not None:\n",
    "        return srch.group(0).strip()\n",
    "    else:\n",
    "        return \"Not found\""
   ]
  },
  {
   "cell_type": "code",
   "execution_count": 168,
   "metadata": {},
   "outputs": [],
   "source": [
    "def extract(key,str_arg):\n",
    "    if key == 'dob':\n",
    "        return get_regex_match('Date of Birth:(.*)] ', str_arg)\n",
    "    elif key == 'a_date':\n",
    "        return get_regex_match('Admission Date:(.*)] ', str_arg)\n",
    "    elif key == 'd_date':\n",
    "        return get_regex_match('Discharge Date:(.*)]\\n', str_arg)\n",
    "    elif key == 'sex':\n",
    "        return get_regex_match('Sex:(.*)\\n', str_arg)\n",
    "    elif key == 'service':\n",
    "        return get_regex_match('Service:(.*)\\n', str_arg)\n",
    "    elif key == 'allergy':\n",
    "        return get_regex_match('Allergies:(.*)\\n(.*)\\n', str_arg)\n",
    "    elif key == 'attdng':\n",
    "        return get_regex_match('Attending:(.*)]\\n', str_arg)\n",
    "    else:\n",
    "        return \"I Don't know\""
   ]
  },
  {
   "cell_type": "markdown",
   "metadata": {},
   "source": [
    "## Topic Extraction"
   ]
  },
  {
   "cell_type": "markdown",
   "metadata": {},
   "source": [
    "##### START rough work"
   ]
  },
  {
   "cell_type": "code",
   "execution_count": 170,
   "metadata": {},
   "outputs": [],
   "source": [
    "st = \"What is my admission date?\".split(\".\")"
   ]
  },
  {
   "cell_type": "code",
   "execution_count": 172,
   "metadata": {},
   "outputs": [],
   "source": [
    "vectorizer = text.CountVectorizer(input='content', analyzer='word', lowercase=True, stop_words='english')\n",
    "dtm = vectorizer.fit_transform(st)\n",
    "vocab = np.array(vectorizer.get_feature_names())"
   ]
  },
  {
   "cell_type": "code",
   "execution_count": 179,
   "metadata": {},
   "outputs": [],
   "source": [
    "num_topics = 1\n",
    "num_top_words = 3\n",
    "\n",
    "#clf = decomposition.NMF(n_components=num_topics, random_state=1) ## topic extraction\n",
    "clf = decomposition.LatentDirichletAllocation(n_components=num_topics, learning_method='online')\n",
    "doctopic = clf.fit_transform(dtm)\n",
    "\n",
    "topic_words = []\n",
    "for topic in clf.components_:\n",
    "    word_idx = np.argsort(topic)[::-1][0:num_top_words] ##[::-1] reverses the list\n",
    "    topic_words.append([vocab[i] for i in word_idx])"
   ]
  },
  {
   "cell_type": "code",
   "execution_count": 180,
   "metadata": {},
   "outputs": [
    {
     "data": {
      "text/plain": [
       "[['admission', 'date']]"
      ]
     },
     "execution_count": 180,
     "metadata": {},
     "output_type": "execute_result"
    }
   ],
   "source": [
    "topic_words"
   ]
  },
  {
   "cell_type": "code",
   "execution_count": 192,
   "metadata": {},
   "outputs": [
    {
     "data": {
      "text/plain": [
       "'date'"
      ]
     },
     "execution_count": 192,
     "metadata": {},
     "output_type": "execute_result"
    }
   ],
   "source": [
    "port = PorterStemmer()\n",
    "port.stem('date')"
   ]
  },
  {
   "cell_type": "code",
   "execution_count": 193,
   "metadata": {},
   "outputs": [
    {
     "data": {
      "text/plain": [
       "'date'"
      ]
     },
     "execution_count": 193,
     "metadata": {},
     "output_type": "execute_result"
    }
   ],
   "source": [
    "wnl = WordNetLemmatizer()\n",
    "wnl.lemmatize('date')"
   ]
  },
  {
   "cell_type": "markdown",
   "metadata": {},
   "source": [
    "# Scratch Code"
   ]
  },
  {
   "cell_type": "markdown",
   "metadata": {},
   "source": [
    "Idea 1: Find topic using LDA for both questions and answers. Return the answer that matches the question topic most closely.\n",
    "\n",
    "Assumption : Person will always ask question"
   ]
  },
  {
   "cell_type": "code",
   "execution_count": 367,
   "metadata": {},
   "outputs": [],
   "source": [
    "'''This method extracts topic from sentence'''\n",
    "def extract_topic(str_arg, num_topics = 1, num_top_words = 3):\n",
    "    vectorizer = text.CountVectorizer(input='content', analyzer='word', lowercase=True, stop_words='english')\n",
    "    dtm = vectorizer.fit_transform(str_arg.split())\n",
    "    vocab = np.array(vectorizer.get_feature_names())\n",
    "    \n",
    "    #clf = decomposition.NMF(n_components=num_topics, random_state=1) ## topic extraction\n",
    "    clf = decomposition.LatentDirichletAllocation(n_components=num_topics, learning_method='online')\n",
    "    clf.fit_transform(dtm)\n",
    "    \n",
    "    topic_words = []\n",
    "    for topic in clf.components_:\n",
    "        word_idx = np.argsort(topic)[::-1][0:num_top_words] ##[::-1] reverses the list\n",
    "        topic_words.append([vocab[i] for i in word_idx])\n",
    "    return topic_words"
   ]
  },
  {
   "cell_type": "code",
   "execution_count": 366,
   "metadata": {},
   "outputs": [],
   "source": [
    "'''This method extracts topics in a question'''\n",
    "def extract_Q_topic(str_arg):\n",
    "    return extract_topic(str_arg)\n",
    "    ## TODO fix later for more comprehensive results"
   ]
  },
  {
   "cell_type": "code",
   "execution_count": 368,
   "metadata": {},
   "outputs": [],
   "source": [
    "## A Stemmed mapping for simple extractions\n",
    "extract_map = {'birth':'dob', 'dob':'dob',\n",
    "              'admiss':'a_date', 'discharg':'d_date',\n",
    "              'sex':'sex', 'gender':'sex', 'servic':'service',\n",
    "              'allergi':'allergy', 'attend':'attdng'}"
   ]
  },
  {
   "cell_type": "code",
   "execution_count": 369,
   "metadata": {},
   "outputs": [],
   "source": [
    "'''Method that gets stemmed mapping for information extraction'''\n",
    "def get_extract_map(key):\n",
    "    k = None\n",
    "    try:\n",
    "        k = extract_map[key]\n",
    "    except:\n",
    "        pass\n",
    "    return k"
   ]
  },
  {
   "cell_type": "code",
   "execution_count": 376,
   "metadata": {},
   "outputs": [],
   "source": [
    "'''Method that generates the answer for text extraction questions'''\n",
    "def get_extracted_answer(topic_str, text):\n",
    "    port = PorterStemmer()\n",
    "    for i in range(0, len(topic_str)):\n",
    "        rel_wrd = topic_str[i]\n",
    "        for wrd in rel_wrd:\n",
    "            key = get_extract_map(port.stem(wrd))\n",
    "            if key is not None:\n",
    "                return extract(key, text)\n",
    "    return None"
   ]
  },
  {
   "cell_type": "code",
   "execution_count": 241,
   "metadata": {},
   "outputs": [],
   "source": [
    "def get_answer(topic):\n",
    "    ## Maybe apply lemmatizer here\n",
    "    pass"
   ]
  },
  {
   "cell_type": "code",
   "execution_count": 371,
   "metadata": {},
   "outputs": [],
   "source": [
    "'''Method that processes the entire document string'''\n",
    "def process_text(txt):\n",
    "    txt1 = re.sub('[\\n]',\" \",txt)\n",
    "    txt1 = re.sub('[^A-Za-z \\.]+', '', txt1)\n",
    "    \n",
    "    return txt1"
   ]
  },
  {
   "cell_type": "code",
   "execution_count": 372,
   "metadata": {},
   "outputs": [],
   "source": [
    "'''Method that processes raw string and gets a processes list containing lines'''\n",
    "def get_processed_sentences(snt_txt):\n",
    "    snt_list = []\n",
    "    for line in snt_txt.split('.'):\n",
    "        line = line.strip()\n",
    "        if len(line.split()) >= 5:\n",
    "            snt_list.append(line)\n",
    "    return snt_list"
   ]
  },
  {
   "cell_type": "code",
   "execution_count": 374,
   "metadata": {},
   "outputs": [],
   "source": [
    "'''This method extracts topics of each sentence and generates a map of topics to sentences for possible answers'''\n",
    "def extract_sentence_topics(doc_string):\n",
    "    #One entry per sentence in list\n",
    "    #Map topics to sentence\n",
    "    doc_str = process_text(doc_string)\n",
    "    doc_str = get_processed_sentences(doc_str)\n",
    "    \n",
    "    topic_map = defaultdict(list)\n",
    "    for i in range (0, len(doc_str)):\n",
    "        snd_str = doc_str[i].lower()\n",
    "        #print(\"Sending ----------------------------\",snd_str,\"==========\",len(snd_str))\n",
    "        tmp_topic = extract_topic(snd_str, num_topics = 1, num_top_words = 1)\n",
    "        for val in tmp_topic[0]:\n",
    "            topic_map[val].append(i)\n",
    "    return doc_str, topic_map"
   ]
  },
  {
   "cell_type": "code",
   "execution_count": null,
   "metadata": {},
   "outputs": [],
   "source": [
    "def generate_Q_embedding(topic):\n",
    "    pass"
   ]
  },
  {
   "cell_type": "code",
   "execution_count": null,
   "metadata": {},
   "outputs": [],
   "source": [
    "def generate_A_embedding(topic):\n",
    "    pass"
   ]
  },
  {
   "cell_type": "code",
   "execution_count": null,
   "metadata": {},
   "outputs": [],
   "source": [
    "def get_QA_similarity(ques, ans):\n",
    "    pass"
   ]
  },
  {
   "cell_type": "markdown",
   "metadata": {},
   "source": [
    "## The Main Function"
   ]
  },
  {
   "cell_type": "code",
   "execution_count": 383,
   "metadata": {},
   "outputs": [],
   "source": [
    "def main_bot():\n",
    "    while True:\n",
    "        pid = 4 ## Update this with patient identifier here\n",
    "        ip = \"What is my dob?\" ## Read input here\n",
    "        topic_q = extract_Q_topic(ip)\n",
    "        ans = get_extracted_answer(topic_q, df_text[4])\n",
    "        if ans is not None:\n",
    "            print(\"Bot:>\",ans)\n",
    "        else:\n",
    "            print(\"Enough information is not found in the clinical notes!\")\n",
    "        break"
   ]
  },
  {
   "cell_type": "code",
   "execution_count": 384,
   "metadata": {},
   "outputs": [
    {
     "name": "stdout",
     "output_type": "stream",
     "text": [
      "Bot:> Date of Birth:  [**2080-1-4**]\n"
     ]
    }
   ],
   "source": [
    "main_bot()"
   ]
  }
 ],
 "metadata": {
  "kernelspec": {
   "display_name": "Python 3",
   "language": "python",
   "name": "python3"
  },
  "language_info": {
   "codemirror_mode": {
    "name": "ipython",
    "version": 3
   },
   "file_extension": ".py",
   "mimetype": "text/x-python",
   "name": "python",
   "nbconvert_exporter": "python",
   "pygments_lexer": "ipython3",
   "version": "3.6.4"
  }
 },
 "nbformat": 4,
 "nbformat_minor": 2
}
