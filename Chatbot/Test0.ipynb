{
 "cells": [
  {
   "cell_type": "code",
   "execution_count": 1,
   "metadata": {},
   "outputs": [],
   "source": [
    "import re\n",
    "import sqlite3\n",
    "from collections import Counter\n",
    "from string import punctuation\n",
    "from math import sqrt"
   ]
  },
  {
   "cell_type": "code",
   "execution_count": 2,
   "metadata": {},
   "outputs": [],
   "source": [
    "# initialize the connection to the database\n",
    "connection = sqlite3.connect('chatbot.sqlite')\n",
    "cursor = connection.cursor()"
   ]
  },
  {
   "cell_type": "code",
   "execution_count": 3,
   "metadata": {},
   "outputs": [],
   "source": [
    "# create the tables needed by the program\n",
    "create_table_request_list = [\n",
    "    'CREATE TABLE words(word TEXT UNIQUE)',\n",
    "    'CREATE TABLE sentences(sentence TEXT UNIQUE, used INT NOT NULL DEFAULT 0)',\n",
    "    'CREATE TABLE associations (word_id INT NOT NULL, sentence_id INT NOT NULL, weight REAL NOT NULL)',\n",
    "]"
   ]
  },
  {
   "cell_type": "code",
   "execution_count": 4,
   "metadata": {},
   "outputs": [],
   "source": [
    "for create_table_request in create_table_request_list:\n",
    "    try:\n",
    "        cursor.execute(create_table_request)\n",
    "    except:\n",
    "        pass"
   ]
  },
  {
   "cell_type": "code",
   "execution_count": 5,
   "metadata": {},
   "outputs": [],
   "source": [
    "def get_id(entityName, text):\n",
    "    \"\"\"Retrieve an entity's unique ID from the database, given its associated text.\n",
    "    If the row is not already present, it is inserted.\n",
    "    The entity can either be a sentence or a word.\"\"\"\n",
    "    tableName = entityName + 's'\n",
    "    columnName = entityName\n",
    "    cursor.execute('SELECT rowid FROM ' + tableName + ' WHERE ' + columnName + ' = ?', (text,))\n",
    "    row = cursor.fetchone()\n",
    "    if row:\n",
    "        return row[0]\n",
    "    else:\n",
    "        cursor.execute('INSERT INTO ' + tableName + ' (' + columnName + ') VALUES (?)', (text,))\n",
    "        return cursor.lastrowid"
   ]
  },
  {
   "cell_type": "code",
   "execution_count": 6,
   "metadata": {},
   "outputs": [],
   "source": [
    "def get_words(text):\n",
    "    \"\"\"Retrieve the words present in a given string of text.\n",
    "    The return value is a list of tuples where the first member is a lowercase word,\n",
    "    and the second member the number of time it is present in the text.\"\"\"\n",
    "    wordsRegexpString = '(?:\\w+|[' + re.escape(punctuation) + ']+)'\n",
    "    wordsRegexp = re.compile(wordsRegexpString)\n",
    "    wordsList = wordsRegexp.findall(text.lower())\n",
    "    return Counter(wordsList).items()"
   ]
  },
  {
   "cell_type": "code",
   "execution_count": 7,
   "metadata": {},
   "outputs": [
    {
     "data": {
      "text/plain": [
       "dict_items([('hello', 1), ('how', 1), ('are', 1), ('you', 1), ('?', 1), ('what', 1), ('a', 1), ('nice', 1), ('weather', 1), ('today', 1), ('!', 1)])"
      ]
     },
     "execution_count": 7,
     "metadata": {},
     "output_type": "execute_result"
    }
   ],
   "source": [
    "st = \"Hello How are you? what a nice weather today!\"\n",
    "get_words(st)"
   ]
  },
  {
   "cell_type": "code",
   "execution_count": 9,
   "metadata": {},
   "outputs": [
    {
     "name": "stdout",
     "output_type": "stream",
     "text": [
      "B: Hello!\n",
      "B: Hi\n",
      "B: Hi\n",
      "B: Hi\n",
      "B: Hi\n",
      "B: Hi\n",
      "B: Hi\n",
      "B: Hi\n",
      "B: Hi\n",
      "B: Hi\n",
      "B: Hi\n",
      "B: Hi\n",
      "B: Hi\n",
      "B: Hi\n",
      "B: Hi\n",
      "B: Hi\n",
      "B: Hi\n",
      "B: Hi\n",
      "B: Hi\n",
      "B: Hi\n",
      "B: Hi\n",
      "B: Hi\n",
      "B: Hi\n",
      "B: Hi\n",
      "B: Hi\n",
      "B: Hi\n",
      "B: Hi\n",
      "B: Hi\n",
      "B: Hi\n",
      "B: Hi\n",
      "B: Hi\n",
      "B: Hi\n",
      "B: Hi\n",
      "B: Hi\n",
      "B: Hi\n",
      "B: Hi\n",
      "B: Hi\n",
      "B: Hi\n",
      "B: Hi\n",
      "B: Hi\n",
      "B: Hi\n",
      "B: Hi\n",
      "B: Hi\n",
      "B: Hi\n",
      "B: Hi\n",
      "B: Hi\n",
      "B: Hi\n",
      "B: Hi\n",
      "B: Hi\n",
      "B: Hi\n",
      "B: Hi\n",
      "B: Hi\n",
      "B: Hi\n",
      "B: Hi\n",
      "B: Hi\n",
      "B: Hi\n",
      "B: Hi\n",
      "B: Hi\n",
      "B: Hi\n",
      "B: Hi\n",
      "B: Hi\n",
      "B: Hi\n",
      "B: Hi\n",
      "B: Hi\n",
      "B: Hi\n",
      "B: Hi\n",
      "B: Hi\n",
      "B: Hi\n"
     ]
    },
    {
     "ename": "KeyboardInterrupt",
     "evalue": "",
     "output_type": "error",
     "traceback": [
      "\u001b[1;31m---------------------------------------------------------------------------\u001b[0m",
      "\u001b[1;31mKeyboardInterrupt\u001b[0m                         Traceback (most recent call last)",
      "\u001b[1;32m<ipython-input-9-d04f8a8182d2>\u001b[0m in \u001b[0;36m<module>\u001b[1;34m()\u001b[0m\n\u001b[0;32m     15\u001b[0m         \u001b[0mweight\u001b[0m \u001b[1;33m=\u001b[0m \u001b[0msqrt\u001b[0m\u001b[1;33m(\u001b[0m\u001b[0mn\u001b[0m \u001b[1;33m/\u001b[0m \u001b[0mfloat\u001b[0m\u001b[1;33m(\u001b[0m\u001b[0mwords_length\u001b[0m\u001b[1;33m)\u001b[0m\u001b[1;33m)\u001b[0m\u001b[1;33m\u001b[0m\u001b[0m\n\u001b[0;32m     16\u001b[0m         \u001b[0mcursor\u001b[0m\u001b[1;33m.\u001b[0m\u001b[0mexecute\u001b[0m\u001b[1;33m(\u001b[0m\u001b[1;34m'INSERT INTO associations VALUES (?, ?, ?)'\u001b[0m\u001b[1;33m,\u001b[0m \u001b[1;33m(\u001b[0m\u001b[0mword_id\u001b[0m\u001b[1;33m,\u001b[0m \u001b[0msentence_id\u001b[0m\u001b[1;33m,\u001b[0m \u001b[0mweight\u001b[0m\u001b[1;33m)\u001b[0m\u001b[1;33m)\u001b[0m\u001b[1;33m\u001b[0m\u001b[0m\n\u001b[1;32m---> 17\u001b[1;33m     \u001b[0mconnection\u001b[0m\u001b[1;33m.\u001b[0m\u001b[0mcommit\u001b[0m\u001b[1;33m(\u001b[0m\u001b[1;33m)\u001b[0m\u001b[1;33m\u001b[0m\u001b[0m\n\u001b[0m\u001b[0;32m     18\u001b[0m     \u001b[1;31m# retrieve the most likely answer from the database\u001b[0m\u001b[1;33m\u001b[0m\u001b[1;33m\u001b[0m\u001b[0m\n\u001b[0;32m     19\u001b[0m     \u001b[0mcursor\u001b[0m\u001b[1;33m.\u001b[0m\u001b[0mexecute\u001b[0m\u001b[1;33m(\u001b[0m\u001b[1;34m'CREATE TEMPORARY TABLE results(sentence_id INT, sentence TEXT, weight REAL)'\u001b[0m\u001b[1;33m)\u001b[0m\u001b[1;33m\u001b[0m\u001b[0m\n",
      "\u001b[1;31mKeyboardInterrupt\u001b[0m: "
     ]
    }
   ],
   "source": [
    "B = 'Hello!'\n",
    "while True:\n",
    "    # output bot's message\n",
    "    print('B: ' + B)\n",
    "    # ask for user input; if blank line, exit the loop\n",
    "    H = raw_input('H: ').strip()\n",
    "    if H == '':\n",
    "        break\n",
    "    # store the association between the bot's message words and the user's response\n",
    "    words = get_words(B)\n",
    "    words_length = sum([n * len(word) for word, n in words])\n",
    "    sentence_id = get_id('sentence', H)\n",
    "    for word, n in words:\n",
    "        word_id = get_id('word', word)\n",
    "        weight = sqrt(n / float(words_length))\n",
    "        cursor.execute('INSERT INTO associations VALUES (?, ?, ?)', (word_id, sentence_id, weight))\n",
    "    connection.commit()\n",
    "    # retrieve the most likely answer from the database\n",
    "    cursor.execute('CREATE TEMPORARY TABLE results(sentence_id INT, sentence TEXT, weight REAL)')\n",
    "    words = get_words(H)\n",
    "    words_length = sum([n * len(word) for word, n in words])\n",
    "    for word, n in words:\n",
    "        weight = sqrt(n / float(words_length))\n",
    "        cursor.execute('INSERT INTO results SELECT associations.sentence_id, sentences.sentence, ?*associations.weight/(4+sentences.used) FROM words INNER JOIN associations ON associations.word_id=words.rowid INNER JOIN sentences ON sentences.rowid=associations.sentence_id WHERE words.word=?', (weight, word,))\n",
    "    # if matches were found, give the best one\n",
    "    cursor.execute('SELECT sentence_id, sentence, SUM(weight) AS sum_weight FROM results GROUP BY sentence_id ORDER BY sum_weight DESC LIMIT 1')\n",
    "    row = cursor.fetchone()\n",
    "    cursor.execute('DROP TABLE results')\n",
    "    # otherwise, just randomly pick one of the least used sentences\n",
    "    if row is None:\n",
    "        cursor.execute('SELECT rowid, sentence FROM sentences WHERE used = (SELECT MIN(used) FROM sentences) ORDER BY RANDOM() LIMIT 1')\n",
    "        row = cursor.fetchone()\n",
    "    # tell the database the sentence has been used once more, and prepare the sentence\n",
    "    B = row[1]\n",
    "    cursor.execute('UPDATE sentences SET used=used+1 WHERE rowid=?', (row[0],))"
   ]
  }
 ],
 "metadata": {
  "kernelspec": {
   "display_name": "Python 3",
   "language": "python",
   "name": "python3"
  },
  "language_info": {
   "codemirror_mode": {
    "name": "ipython",
    "version": 3
   },
   "file_extension": ".py",
   "mimetype": "text/x-python",
   "name": "python",
   "nbconvert_exporter": "python",
   "pygments_lexer": "ipython3",
   "version": "3.6.4"
  }
 },
 "nbformat": 4,
 "nbformat_minor": 2
}
