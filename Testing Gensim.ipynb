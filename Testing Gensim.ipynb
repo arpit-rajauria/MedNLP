{
 "cells": [
  {
   "cell_type": "code",
   "execution_count": 1,
   "metadata": {
    "collapsed": true
   },
   "outputs": [],
   "source": [
    "from gensim.models import Word2Vec\n",
    "\n",
    "import pandas as pd\n",
    "from sklearn.externals import joblib\n",
    "import re\n",
    "from collections import defaultdict\n",
    "import operator\n",
    "import numpy as np"
   ]
  },
  {
   "cell_type": "code",
   "execution_count": 74,
   "metadata": {},
   "outputs": [
    {
     "name": "stderr",
     "output_type": "stream",
     "text": [
      "/Users/tliu/anaconda3/lib/python3.6/site-packages/IPython/core/interactiveshell.py:2698: DtypeWarning: Columns (4,5) have mixed types. Specify dtype option on import or set low_memory=False.\n",
      "  interactivity=interactivity, compiler=compiler, result=result)\n"
     ]
    }
   ],
   "source": [
    "dfall = pd.read_csv(\"./NOTEEVENTS.csv\")"
   ]
  },
  {
   "cell_type": "code",
   "execution_count": 75,
   "metadata": {
    "collapsed": true
   },
   "outputs": [],
   "source": [
    "# Take first 10000 entries for training and next 10000 entries for testing\n",
    "df1 = dfall[:10000]\n",
    "df2 = dfall[10000:20000]"
   ]
  },
  {
   "cell_type": "code",
   "execution_count": 76,
   "metadata": {},
   "outputs": [
    {
     "data": {
      "text/plain": [
       "['data10_2.pkl']"
      ]
     },
     "execution_count": 76,
     "metadata": {},
     "output_type": "execute_result"
    }
   ],
   "source": [
    "joblib.dump(df1,'data10.pkl')\n",
    "joblib.dump(df2,'data10_2.pkl')"
   ]
  },
  {
   "cell_type": "code",
   "execution_count": 2,
   "metadata": {
    "collapsed": true
   },
   "outputs": [],
   "source": [
    "df = joblib.load('data10.pkl')\n",
    "df_test = joblib.load('data10_2.pkl')"
   ]
  },
  {
   "cell_type": "code",
   "execution_count": 3,
   "metadata": {
    "collapsed": true
   },
   "outputs": [],
   "source": [
    "df_text = df[['CHARTDATE','CATEGORY','DESCRIPTION','TEXT']]\n",
    "df_text_test = df_test[['CHARTDATE','CATEGORY','DESCRIPTION','TEXT']]"
   ]
  },
  {
   "cell_type": "code",
   "execution_count": 4,
   "metadata": {},
   "outputs": [
    {
     "ename": "KeyboardInterrupt",
     "evalue": "",
     "output_type": "error",
     "traceback": [
      "\u001b[0;31m---------------------------------------------------------------------------\u001b[0m",
      "\u001b[0;31mKeyboardInterrupt\u001b[0m                         Traceback (most recent call last)",
      "\u001b[0;32m<ipython-input-4-abbb15a930d1>\u001b[0m in \u001b[0;36m<module>\u001b[0;34m()\u001b[0m\n\u001b[1;32m     11\u001b[0m     \u001b[0mmywords2\u001b[0m \u001b[0;34m=\u001b[0m \u001b[0;34m[\u001b[0m\u001b[0ms\u001b[0m\u001b[0;34m.\u001b[0m\u001b[0mlower\u001b[0m\u001b[0;34m(\u001b[0m\u001b[0;34m)\u001b[0m \u001b[0;32mfor\u001b[0m \u001b[0ms\u001b[0m \u001b[0;32min\u001b[0m \u001b[0mmywords\u001b[0m\u001b[0;34m]\u001b[0m\u001b[0;34m\u001b[0m\u001b[0m\n\u001b[1;32m     12\u001b[0m     \u001b[0;31m# stopword removal\u001b[0m\u001b[0;34m\u001b[0m\u001b[0;34m\u001b[0m\u001b[0m\n\u001b[0;32m---> 13\u001b[0;31m     \u001b[0mmywordsfinal\u001b[0m \u001b[0;34m=\u001b[0m \u001b[0;34m[\u001b[0m\u001b[0mw\u001b[0m \u001b[0;32mfor\u001b[0m \u001b[0mw\u001b[0m \u001b[0;32min\u001b[0m \u001b[0mmywords2\u001b[0m \u001b[0;32mif\u001b[0m \u001b[0;32mnot\u001b[0m \u001b[0mw\u001b[0m \u001b[0;32min\u001b[0m \u001b[0mstop_words\u001b[0m\u001b[0;34m]\u001b[0m\u001b[0;34m\u001b[0m\u001b[0m\n\u001b[0m\u001b[1;32m     14\u001b[0m     \u001b[0msentences\u001b[0m\u001b[0;34m.\u001b[0m\u001b[0mappend\u001b[0m\u001b[0;34m(\u001b[0m\u001b[0mmywordsfinal\u001b[0m\u001b[0;34m)\u001b[0m\u001b[0;34m\u001b[0m\u001b[0m\n",
      "\u001b[0;32m<ipython-input-4-abbb15a930d1>\u001b[0m in \u001b[0;36m<listcomp>\u001b[0;34m(.0)\u001b[0m\n\u001b[1;32m     11\u001b[0m     \u001b[0mmywords2\u001b[0m \u001b[0;34m=\u001b[0m \u001b[0;34m[\u001b[0m\u001b[0ms\u001b[0m\u001b[0;34m.\u001b[0m\u001b[0mlower\u001b[0m\u001b[0;34m(\u001b[0m\u001b[0;34m)\u001b[0m \u001b[0;32mfor\u001b[0m \u001b[0ms\u001b[0m \u001b[0;32min\u001b[0m \u001b[0mmywords\u001b[0m\u001b[0;34m]\u001b[0m\u001b[0;34m\u001b[0m\u001b[0m\n\u001b[1;32m     12\u001b[0m     \u001b[0;31m# stopword removal\u001b[0m\u001b[0;34m\u001b[0m\u001b[0;34m\u001b[0m\u001b[0m\n\u001b[0;32m---> 13\u001b[0;31m     \u001b[0mmywordsfinal\u001b[0m \u001b[0;34m=\u001b[0m \u001b[0;34m[\u001b[0m\u001b[0mw\u001b[0m \u001b[0;32mfor\u001b[0m \u001b[0mw\u001b[0m \u001b[0;32min\u001b[0m \u001b[0mmywords2\u001b[0m \u001b[0;32mif\u001b[0m \u001b[0;32mnot\u001b[0m \u001b[0mw\u001b[0m \u001b[0;32min\u001b[0m \u001b[0mstop_words\u001b[0m\u001b[0;34m]\u001b[0m\u001b[0;34m\u001b[0m\u001b[0m\n\u001b[0m\u001b[1;32m     14\u001b[0m     \u001b[0msentences\u001b[0m\u001b[0;34m.\u001b[0m\u001b[0mappend\u001b[0m\u001b[0;34m(\u001b[0m\u001b[0mmywordsfinal\u001b[0m\u001b[0;34m)\u001b[0m\u001b[0;34m\u001b[0m\u001b[0m\n",
      "\u001b[0;31mKeyboardInterrupt\u001b[0m: "
     ]
    }
   ],
   "source": [
    "from nltk.corpus import stopwords\n",
    "\n",
    "sentences = []\n",
    "stop_words = set(stopwords.words('english'))\n",
    "\n",
    "for txt in df_text.TEXT:\n",
    "    txt1 = re.sub('[\\n]',\" \",txt)\n",
    "    txt1 = re.sub('[^A-Za-z ]+', '', txt1)\n",
    "    mywords = txt1.split()\n",
    "    # lowercase conversion\n",
    "    mywords2 = [s.lower() for s in mywords]\n",
    "    # stopword removal\n",
    "    mywordsfinal = [w for w in mywords2 if not w in stop_words]\n",
    "    sentences.append(mywordsfinal)"
   ]
  },
  {
   "cell_type": "code",
   "execution_count": 66,
   "metadata": {
    "collapsed": true
   },
   "outputs": [],
   "source": [
    "# train model\n",
    "model = Word2Vec(sentences, min_count=1)"
   ]
  },
  {
   "cell_type": "code",
   "execution_count": 67,
   "metadata": {},
   "outputs": [
    {
     "name": "stdout",
     "output_type": "stream",
     "text": [
      "Word2Vec(vocab=80296, size=100, alpha=0.025)\n"
     ]
    }
   ],
   "source": [
    "# summarize the loaded model\n",
    "print(model)"
   ]
  },
  {
   "cell_type": "code",
   "execution_count": 53,
   "metadata": {},
   "outputs": [
    {
     "name": "stdout",
     "output_type": "stream",
     "text": [
      "[ 1.0978925   2.7957299   1.3643227  -0.8032453  -2.7279723  -1.5897623\n",
      "  0.09799961 -0.19034688 -2.2994661  -1.244762   -3.4623144   4.9409647\n",
      "  2.0982625   1.4772979   1.7284743   2.3356638   3.9766867   0.48016554\n",
      "  1.0392845   0.45324647 -1.6923034   3.474458   -1.3204535   0.9687495\n",
      "  3.17455    -4.73741     0.16136861  0.8294597   2.507309   -3.8423338\n",
      " -2.705068    0.67458206  3.2866213  -3.008138    4.2245584   1.1999917\n",
      "  0.34530917 -0.69413936 -1.7175548   0.30903172 -0.20541686  0.66834545\n",
      " -2.9287174  -0.9649513  -1.2026014  -3.29542    -1.6908461   2.911497\n",
      "  0.8074975   0.03017143  2.4841444  -1.4078126  -1.3892562  -2.2165973\n",
      " -0.2759469   1.3358786   2.3708568  -0.56465495  1.5806664   0.7400499\n",
      "  2.427127    0.84977996  1.9100599   3.6728053  -2.3172188  -1.6323755\n",
      " -1.3391464  -2.641549    1.7980431   4.2120266  -0.26183596  0.18096995\n",
      " -0.1102359  -0.8129039  -0.3021579  -1.5302645   1.1170716   3.9305105\n",
      " -1.3271947  -1.6165388  -1.317359    1.528306   -0.48713365  2.9894211\n",
      " -0.9999077   4.3009305   1.5426946  -0.5475633  -2.2955441  -1.2598581\n",
      "  1.6107669  -3.558981   -0.46225095  1.867922   -0.2686219   0.9429111\n",
      "  0.2308748   2.1154118   0.8625217   1.1928144 ]\n"
     ]
    },
    {
     "name": "stderr",
     "output_type": "stream",
     "text": [
      "/Users/tliu/anaconda3/lib/python3.6/site-packages/ipykernel_launcher.py:2: DeprecationWarning: Call to deprecated `__getitem__` (Method will be removed in 4.0.0, use self.wv.__getitem__() instead).\n",
      "  \n"
     ]
    }
   ],
   "source": [
    "# access vector for one word\n",
    "print(new_model['diabetes'])"
   ]
  },
  {
   "cell_type": "code",
   "execution_count": 70,
   "metadata": {},
   "outputs": [
    {
     "name": "stdout",
     "output_type": "stream",
     "text": [
      "Word2Vec(vocab=80296, size=100, alpha=0.025)\n"
     ]
    }
   ],
   "source": [
    "# save model\n",
    "model.save('model.bin')"
   ]
  },
  {
   "cell_type": "code",
   "execution_count": 5,
   "metadata": {},
   "outputs": [
    {
     "name": "stdout",
     "output_type": "stream",
     "text": [
      "Word2Vec(vocab=80296, size=100, alpha=0.025)\n"
     ]
    }
   ],
   "source": [
    "# load model\n",
    "new_model = Word2Vec.load('model.bin')\n",
    "print(new_model)"
   ]
  },
  {
   "cell_type": "code",
   "execution_count": 6,
   "metadata": {},
   "outputs": [
    {
     "name": "stdout",
     "output_type": "stream",
     "text": [
      "[('infectious', 0.99999994)]\n"
     ]
    }
   ],
   "source": [
    "print(new_model.predict_output_word(['disease'], topn = 1))"
   ]
  },
  {
   "cell_type": "code",
   "execution_count": 55,
   "metadata": {},
   "outputs": [
    {
     "name": "stdout",
     "output_type": "stream",
     "text": [
      "[('dependentdiabetes', 0.7202577590942383), ('dm', 0.6995397210121155), ('diabtes', 0.6465699672698975), ('dibetes', 0.634494960308075), ('prediabetes', 0.5752801895141602), ('honkdiabetes', 0.5701246857643127), ('mellitus', 0.5570030212402344), ('noninsulin', 0.5569166541099548), ('insulindependent', 0.5438898801803589), ('diabete', 0.5411747097969055)]\n"
     ]
    }
   ],
   "source": [
    "print (new_model.wv.most_similar(['diabetes'], topn = 10))"
   ]
  },
  {
   "cell_type": "code",
   "execution_count": 90,
   "metadata": {},
   "outputs": [
    {
     "name": "stdout",
     "output_type": "stream",
     "text": [
      "Admission Date:  [**2116-11-16**]              Discharge Date:   [**2116-11-20**]\n",
      "\n",
      "Date of Birth:  [**2035-12-10**]             Sex:   M\n",
      "\n",
      "Service: MEDICINE\n",
      "\n",
      "Allergies:\n",
      "Sulfonamides / Iodine; Iodine Containing / Influenza Virus\n",
      "Vaccine\n",
      "\n",
      "Attending:[**First Name3 (LF) 6195**]\n",
      "Chief Complaint:\n",
      "Found down, hypotensive in the ED\n",
      "\n",
      "\n",
      "Major Surgical or Invasive Procedure:\n",
      "None\n",
      "\n",
      "\n",
      "History of Present Illness:\n",
      "80 yo man with history of neuroendocrine tumor s/p colostomy and\n",
      "chemotherapy, paroximal atrial fibrillation on coumadin who\n",
      "presents being found down by wife. [**Name (NI) **] had been feeling weak for\n",
      "4 days. Then today, he was taking his sock off when he slipped\n",
      "off the bed and fell to floor. His wife reports that he did not\n",
      "hit his head.  He was unable to crawl to phone to call 911. His\n",
      "wife arrived after approximately 3 hours and called EMS. BP\n",
      "initially 140/90.\n",
      ".\n",
      "In the ED: VS 102.4, 150/88, HR 94, RR16, 98% RA, EKG no change\n",
      "per ED (not avail). Labs: lactate 1.0, Creatinine, Hct at\n",
      "baseline. WBC 9.7, up from baseline 4.0. U/A neg and CXR w ? RLL\n",
      "infiltrate per ED res. Trop 0.04 (baseline). Cultures and flu\n",
      "test drawn. He received cipro, flagyl, 1gm tylenol. Then SBP\n",
      "dropped to 80s. Given 3L IVF and added ceftriaxone 2gm IV once.\n",
      "SBP up to 100 (baseline 150).\n",
      ".\n",
      "Currently, reports persistent bilateral proximal upper extremity\n",
      "weakness x 1-2 weeks.  He did have a fall 2 weeks prior and\n",
      "caught himself with his arms.  Did not note increased pain\n",
      "immediately, but in the days following.  Has been using arms\n",
      "less, which could explain some deconditioning, but he thinks\n",
      "there may be an additional cause. He reports good compliance\n",
      "with medications. No head pain, no meningismus, no photophobia.\n",
      "POS rhinorrhea but no cough, URI-like sx.  No chest pain, sob,\n",
      "palpitations, abd pain, fevers. No increased diarrhea or\n",
      "constipation. POS chills x1-2 weeks. POS upper ex prox weakness\n",
      "x1-2 weeks. No dysuria.\n",
      "\n",
      "Past Medical History:\n",
      "1. Prostate cancer status post definitive radiation treatment\n",
      "from [**1-/2113**] to 05/[**2112**]. This treatment was delivered under the\n",
      "care of Dr. [**Last Name (STitle) 656**] here at [**Hospital1 18**] and Dr. [**Last Name (STitle) 9125**] of urology.\n",
      "2. Cardiomyopathy, echo [**12-3**]: EF 60%.\n",
      "3. Atrial fibrillation, s/p pacemaker, on coumadin\n",
      "4. Hiatal hernia.\n",
      "5. Diverticular disease status post a diverticular stricture\n",
      "status post low anterior resection by Dr. [**Last Name (STitle) **] here at [**Hospital1 18**]\n",
      "6. Neuroendocrine rectal cancer dx [**2115-6-29**]. per heme/onc\n",
      "notes: \"s/p two cycles of cisplatin and etoposide following his\n",
      "surgery prior to which he had also received the same regimen\n",
      "with a good response. Recently, he was found on a followup CT\n",
      "scan to have what appeared to be a recurrence of his disease.\n",
      "However, the nature of this recurrence was not clear, and he\n",
      "recently underwent a biopsy of a pelvic mass which does not show\n",
      "any evidence of malignancy. In addition, his PSA has been rising\n",
      "as well which in [**1-/2116**] was 3.5 and then in [**4-/2116**] was 5.3 and\n",
      "most recently on [**2116-5-29**] was 6.1.\"\n",
      "\n",
      "\n",
      "Social History:\n",
      "Married, 5 children, lives in [**Location **]. Retired police\n",
      "commander.  Quit tobacco 30yrs ago. No current EtOH.\n",
      "\n",
      "\n",
      "Family History:\n",
      "Family history is unremarkable for colorectal cancer.  His\n",
      "father had esophageal cancer but was a heavy smoker.  His\n",
      "paternal aunt had stomach cancer.\n",
      "\n",
      "Physical Exam:\n",
      "VS: 98.5 144/84 HR 90 97% RA, RR 17\n",
      "GEN: NAD, comfortable, interactive,\n",
      "NEURO\n",
      "- alert to person, place, time, situation\n",
      "- CN ii-xii intact\n",
      "- motor: [**5-2**] bilat upper distal. [**3-2**] upper right prox, [**4-2**] upper\n",
      "left prox. [**5-2**] bilat lower distal/prox strength\n",
      "- [**Last Name (un) 36**] intact light touch\n",
      "- reflexes: toes down, 1+ ankle, knees, brachiorad bilat\n",
      "HEENT: MM dry, PERRLA, anicteric, JVP flat\n",
      "CARDS: irreg, no murmurs, no heave\n",
      "LUNGS: no wheeze, no crackles, clear, nl effort\n",
      "ABD: incision midline, colostomy left lower ex with yellow/brown\n",
      "stool. BS+ NT ND, no hepatomeg, no rebound\n",
      "EXT: no edema, DP 2+ bilat, no palpable cord or assymetry\n",
      "GROIN: erythematous rash w satellites\n",
      "SKIN: no hematomas. 18 [**Doctor Last Name **] 20g IVs\n",
      "OB: trace positive\n",
      "\n",
      "Pertinent Results:\n",
      "[**2116-11-16**] 03:00PM   WBC-9.7# RBC-4.38* HGB-13.3* HCT-37.7* MCV-86\n",
      "MCH-30.5 MCHC-35.4* RDW-14.0\n",
      "[**2116-11-16**] 03:00PM   NEUTS-90.3* LYMPHS-5.4* MONOS-3.8 EOS-0.3\n",
      "BASOS-0.1\n",
      "[**2116-11-16**] 03:00PM   PT-24.1* PTT-36.8* INR(PT)-2.4*\n",
      "[**2116-11-16**] 03:00PM   ALT(SGPT)-16 AST(SGOT)-37 LD(LDH)-289* ALK\n",
      "PHOS-97 AMYLASE-24 TOT BILI-0.7\n",
      "[**2116-11-16**] 03:00PM   GLUCOSE-120* UREA N-29* CREAT-1.5*\n",
      "SODIUM-130* POTASSIUM-4.4 CHLORIDE-96 TOTAL CO2-22 ANION GAP-16\n",
      "[**2116-11-16**] 09:29PM   TSH-0.24*\n",
      "[**2116-11-16**] 05:20PM URINE  BLOOD-LG NITRITE-NEG PROTEIN-30\n",
      "GLUCOSE-NEG KETONE-NEG BILIRUBIN-NEG UROBILNGN-NEG PH-5.0\n",
      "LEUK-NEG\n",
      ".\n",
      "[**2116-11-19**] 9:34 AM  CT CHEST W/CONTRAST; CT ABD W&W/O C\n",
      "CHEST: Note is made of goiter with calcification and multiple\n",
      "small nodules, unchanged since prior study. There is significant\n",
      "mediastinal and hilar lymphadenopathy. The lymph node in\n",
      "pretracheal measures 12 mm in short axis, and the right hilar\n",
      "node measures 22 mm in short axis, and subcarinal node measures\n",
      "42 x 26 mm. These lymph nodes are overall slightly increased in\n",
      "size since prior study. The heart is moderately enlarged, and\n",
      "there is dense calcification of the coronary arteries. There is\n",
      "small bilateral pleural effusion, new since prior study.\n",
      "Calcified pleural plaque is again noted, suggestive of prior\n",
      "asbestos exposure. There is a large hiatal hernia. In the lung\n",
      "window, note is made of new patchy consolidation in the right\n",
      "lower lobe, associated with interlobular septal thickening and\n",
      "faint ground-glass opacities, suspicious for pneumonia or\n",
      "aspiration/aspiration pneumonia or hemorrhage if the patient has\n",
      "hemoptysis. There are several patchy nodules without\n",
      "calcification measuring up to 8 mm in the right upper lobe,\n",
      "overall unchanged since prior study. No endobronchial lesion is\n",
      "noted.\n",
      "\n",
      "ABDOMEN: There are multiple hypoattenuating foci in the liver as\n",
      "noted on the prior study, likely representing cysts. There are\n",
      "several other ill-defined hypoattenuating foci, one in segment\n",
      "IV and the other in segment VI, for which metastasis cannot be\n",
      "totally excluded. However the evaluation for these liver lesions\n",
      "is limited on this single-phase study. There is no intrahepatic\n",
      "ductal dilatation. Portal vein is patent. Spleen is normal.\n",
      "Again note is made of enlarged left adrenal gland likely\n",
      "representing adenoma. Right adrenal gland is within normal\n",
      "limits. Pancreas is atrophic, with prominent main pancreatic\n",
      "duct measuring up to 3 mm, unchanged since prior study. CBD\n",
      "measures 9 mm. Gallbladder is contracted without evidence of\n",
      "calcification. There is no ascites or fluid collection. There is\n",
      "no significant lymphadenopathy in the abdomen. There are\n",
      "multiple hypoattenuating foci in the kidneys, likely\n",
      "representing cysts, without hydronephrosis or suspiciously\n",
      "enhancing mass. The visualized portions of large and small\n",
      "intestines are within normal limits with ileostomy. There is a\n",
      "2.0 cm enhancing nodule in the right subcutaneous tissues in the\n",
      "back at the level of L2, representing increased metastasis.\n",
      "\n",
      "PELVIS: Again note is made of large heterogeneous masses lateral\n",
      "to the right psoas muscle measuring 88 x 69 mm, and other\n",
      "mesenteric metastasis on the left measuring 39 x 37 mm (series\n",
      "3: image 89), increased in size since prior study. There is no\n",
      "free fluid or significant lymphadenopathy. There are tiny\n",
      "bladder diverticula with air in the diverticula and in the\n",
      "urinary bladder.\n",
      "\n",
      "Degenerative changes of thoracolumbar spine are again noted.\n",
      "There is severe scoliosis. Again note is made of thickened\n",
      "trabecula and cortex in the right ilium and sacrum, as seen\n",
      "since [**2112**], consistent with Paget disease. In the region of\n",
      "Paget disease, it is difficult to exclude new metastasis,\n",
      "however, otherwise, no suspicious lytic or blastic lesion is\n",
      "noted.\n",
      "\n",
      "IMPRESSION:\n",
      "1. Slight increase in size of mediastinal and hilar\n",
      "lymphadenopathy as well as increase in size of intraperitoneal\n",
      "metastatic masses. 2.0-cm subcutaneous nodule in the posterior\n",
      "right back at the level of L2 increased in size since prior\n",
      "study, also representing metastasis.\n",
      "2. Multiple hypoattenuating foci in the liver, likely\n",
      "representing cysts. Two other ill-defined foci, which are\n",
      "equivocal, however, metastasis cannot be totally excluded for\n",
      "these findings. Please consider dedicated liver imaging if\n",
      "indicated.\n",
      "3. Unchanged left adrenal adenoma.\n",
      "4. New bilateral pleural effusion with underlying calcified\n",
      "plaques, and new patchy consolidation in the right lower lobe\n",
      "with surrounding faint ground- glass opacity, suspicious for\n",
      "pneumonia or aspiration versus aspiration pneumonia, or\n",
      "hemorrhage if the patient has hemoptysis. Please correlate\n",
      "clinically.\n",
      "5. Overall unchanged noncalcified small nodule in bilateral\n",
      "lungs, measuring up to 8 mm.\n",
      "6. Degenerative changes and Paget disease in the pelvis. With\n",
      "the underlying Paget disease, it is difficult to exclude new\n",
      "metastasis in this location, however, no obvious suspicious new\n",
      "lytic or blastic lesion is noted.\n",
      "\n",
      "Brief Hospital Course:\n",
      "A/P: 80yo man with hx of neuroendocrine colon ca s/p resection\n",
      "and chemo now with recurrence, prostate cancer, atrial\n",
      "fibrillation on coumadin here with 1-2 weeks of proximal UE\n",
      "weakness, decreased PO x 4 days, and hypotensive episode in the\n",
      "ED. He was febrile but improved with 3L IVF.\n",
      ".\n",
      "# Hypotension: Transient (<1h) in the ED but after having a\n",
      "fever to 102.4. Infectious etiologies possible and initially no\n",
      "localizing symptoms.  Assessed for adrenal insufficiency (but\n",
      "denies history of steroid use), cardiogenic (but no CP, SOB and\n",
      "EKG reportedly unchanged), allergic (no new medications),\n",
      "hypovolemia [**1-31**] poor intake, blood loss (hct at baseline).\n",
      "Resolved with IVF, ROMI completed with 3 negative CEs.  Stable\n",
      "since initial hypotensive episode.  CT evaluation revealed\n",
      "probable pneumonia, and was treated with antibiotics.\n",
      ".\n",
      "# Mechanical Fall: Patient AAOx3 and good historian. Wife\n",
      "confirms story.  Given history of colon ca, found down, and INR\n",
      "2.4, head CT performed and revealed no evidence of hemorrhage.\n",
      "Rule-out completed for acute MI.  States he has unsteady gait,\n",
      "with both cane and walker at home, which he doesn't use.  States\n",
      "he will use cane in the future.  PT consulted - recommended d/c\n",
      "home with continued therapy\n",
      ".\n",
      "# Fever: Negative ROS for localizing symptoms.  Received cipro,\n",
      "flagyl, ceftriaxone in ED. [**11-17**]: Spiked temp with some rigors.\n",
      "Empirically started levo/flagyl. DFA flu negative. Blood cx with\n",
      "1/4 bottles GPC indicating likely contaminant but given\n",
      "hypotension and fever, started Vancomycin despite minimal\n",
      "bottles being positive.  C.dif checked and negative.\n",
      "Levo/flagyl discontinued.  Speciation of blood cultures\n",
      "consistent with contaminant.  CT findings suggestive of PNA\n",
      "though continued to have minimal symptoms.  Discharged on\n",
      "levoquin for a 10 day course.\n",
      ".\n",
      "# Atrial fibrillation - s/p pacer on coumadin.  Coumadin\n",
      "continued and INR monitored throughout his stay.\n",
      ".\n",
      "# HTN: Continued on beta blocker.  Lisinopril held due to\n",
      "hypotension and poor renal function.  Well controlled during\n",
      "stay with only beta blocker.  Discharged with instruction to\n",
      "follow-up with PCP to discuss continued management.\n",
      ".\n",
      "# Acute Renal Failure: Baseline creatinine 1.3, elevated on\n",
      "admit.  Thought to be c/w with prerenal.  Urine lytes sent for\n",
      "confirmation.  Rehydrated with IVF and creatinine monitored.\n",
      "Resolved to baseline and discharged with confirmed complete\n",
      "resolution.\n",
      ".\n",
      "# Proximal muscle weakness: For 1-2 weeks s/p mechanical fall\n",
      "and catching himself with his arms extended. DDx includes\n",
      "deconditioning [**1-31**] pain, polymyalgia rheumatica, vasculititis,\n",
      "hypothyroidism, fibromyalgia, malignancy, and rhabdomyolysis.\n",
      "Elevated ESR & CRP.  TSH slight below normal, free T4 normal.\n",
      "By discharge had symmetric strength on exam, nonpainful.  [**Doctor First Name **]\n",
      "negative.  Suspect likely due to deconditioning.  CK monitored\n",
      "and downward trending on discharge.  Sent with home PT and\n",
      "follow-up with primary care physician.\n",
      ".\n",
      "# Neuroendocrine tumor: Dr. [**Last Name (STitle) **] [**Name (NI) 653**] and saw patient while\n",
      "in the hospital.   CT torso completed to assess for further\n",
      "metastases, and new lesions were seen.  These findings were\n",
      "discussed with Mr. [**Known lastname 28553**].  Catecholamines were checked, and\n",
      "pending on discharge.  On discharge he had follow-up\n",
      "appointments for lesion biopsy and to discuss these results with\n",
      "Dr. [**Last Name (STitle) **].\n",
      ".\n",
      "# Groin rash: Noted on admit, stated to have been there for [**12-31**]\n",
      "weeks.  Appears fungal.  Treated with miconazole cream PRN with\n",
      "improvement.  Was discharged with this medication and\n",
      "instruction to follow-up with his primary care should it not\n",
      "resolve.\n",
      ".\n",
      "# Anemia: HCT stable.  Will work-up various etiologies including\n",
      "decreased production; lysis or loss.  Stable throughout stay.\n",
      "Stools were guaiac negative, no evidence of lysis on labs.  To\n",
      "follow-up with primary care physician.\n",
      ".\n",
      "# History of prostate cancer: Flomax held on admission given\n",
      "hypotension, but restarted when became normotensive.  Unclear\n",
      "whether lesions on CT represent recurrence of prostate cancer or\n",
      "neuroendocrine tumor.  To follow-up with Dr. [**Last Name (STitle) **], after tissue\n",
      "biopsy within the next month.\n",
      "\n",
      "\n",
      "Medications on Admission:\n",
      "colace [**Hospital1 **] prn\n",
      "coumadin 2mg daily but 1mg tues/fri\n",
      "enalapril 10mg [**Hospital1 **]\n",
      "flomax 0.8mg qhs\n",
      "toprol XL 25mg [**Hospital1 **]\n",
      "Vitamin C\n",
      "Iron\n",
      "\n",
      "\n",
      "Discharge Medications:\n",
      "1. Colace 100 mg Capsule Sig: One (1) Capsule PO twice a day.\n",
      "2. Enalapril Maleate 10 mg Tablet Sig: One (1) Tablet PO twice a\n",
      "day.- INSTRUCTED TO HOLD until discussion with PCP\n",
      "3. Metoprolol Succinate 25 mg Tablet Sustained Release 24 hr\n",
      "Sig: One (1) Tablet Sustained Release 24 hr PO BID (2 times a\n",
      "day).\n",
      "4. Tamsulosin 0.4 mg Capsule, Sust. Release 24 hr Sig: Two (2)\n",
      "Capsule, Sust. Release 24 hr PO HS (at bedtime).\n",
      "5. Warfarin 2 mg Tablet Sig: One (1) Tablet PO at bedtime.\n",
      "6. Vitamin C 500 mg Tablet Sig: One (1) Tablet PO once a day.\n",
      "7. Iron 325 (65) mg Tablet Sig: One (1) Tablet PO once a day.\n",
      "8. Levofloxacin 250 mg Tablet Sig: Three (3) Tablet PO Q48H\n",
      "(every 48 hours) for 8 days.\n",
      "Disp:*12 Tablet(s)* Refills:*0*\n",
      "9. Miconazole Nitrate 2 % Cream Sig: One (1) application Topical\n",
      "twice a day as needed for rash for 7 days.\n",
      "Disp:*1 Tube* Refills:*0*\n",
      "\n",
      "\n",
      "Discharge Disposition:\n",
      "Home With Service\n",
      "\n",
      "Facility:\n",
      "VNA caregroup\n",
      "\n",
      "Discharge Diagnosis:\n",
      "Primary: Mechanical fall, pneumonia\n",
      "Secondary: Prostate cancer, cardiomyopathy, atrial fibrillation,\n",
      "diverticular disease, neuroendocrine rectal cancer s/p LAR\n",
      "\n",
      "\n",
      "Discharge Condition:\n",
      "Hemodynamically stable, afebrile and ready for continued\n",
      "outpatient PT\n",
      "\n",
      "\n",
      "Discharge Instructions:\n",
      "You were admitted after being found down, after falling.  You\n",
      "were found to have an episode of low blood pressure which\n",
      "resolved with fluid administration.  You were also found to have\n",
      "pneumonia.  You are being discharged on antibiotics for this.\n",
      "You were also evaluated by CT imaging for extension of your\n",
      "cancer, you should follow up with Dr. [**Last Name (STitle) **] for further\n",
      "evaluation of this ongoing issue.\n",
      ".\n",
      "Please continue to take all medications as prescribed.  In\n",
      "addition to your regular medications you have been given an\n",
      "antibiotic, levoquin, for an additional 8 days.\n",
      ".\n",
      "Please keep all your outpatient appointments.\n",
      ".\n",
      "Please return to the ED or contact your regular physician if\n",
      "your notice worsening cough, bloody sputum, fevers/chill,\n",
      "vomiting, loose stools or for any other symptom which is\n",
      "concerning to you.\n",
      "\n",
      "Followup Instructions:\n",
      "Dr.[**Name (NI) 11574**] office will contact you to schedule a follow-up\n",
      "appointment in the next 1-2 weeks.  His office number is\n",
      "[**Telephone/Fax (1) 250**] if you would like to contact them yourself.\n",
      ".\n",
      "For your upcoming biopsy you need to check in at:\n",
      "Provider: [**Name10 (NameIs) 454**],TWO [**Name10 (NameIs) 454**]\n",
      "Date/Time:[**2116-12-1**] at 9:00AM\n",
      ".\n",
      "Provider: [**Name10 (NameIs) **] SCAN scheduled for biopsy\n",
      "Phone:[**Telephone/Fax (1) 327**]\n",
      "Date/Time:[**2116-12-1**] at 10:30AM\n",
      ".\n",
      "To discuss the results of your biopsy:\n",
      "Provider: [**Name10 (NameIs) **] [**Name8 (MD) **], MD\n",
      "Phone:[**Telephone/Fax (1) 22**]\n",
      "Date/Time:[**2116-12-11**] at 9:30AM\n",
      "\n",
      "\n",
      "                             [**First Name11 (Name Pattern1) **] [**Last Name (NamePattern4) 6198**] MD, [**MD Number(3) 6199**]\n",
      "\n",
      "\n"
     ]
    }
   ],
   "source": [
    "print ((df_text_test.TEXT)[10000])"
   ]
  },
  {
   "cell_type": "code",
   "execution_count": 89,
   "metadata": {},
   "outputs": [
    {
     "name": "stdout",
     "output_type": "stream",
     "text": [
      "[('cancer', 0.016078644), ('resection', 0.011121074), ('cholecystectomy', 0.0041043027), ('carcinoma', 0.0034370227), ('hysterectomy', 0.0031943342), ('xrt', 0.0019549986), ('colectomy', 0.0019386981), ('prostatectomy', 0.0017778605), ('excision', 0.0015646915), ('adenocarcinoma', 0.0013128865)]\n"
     ]
    }
   ],
   "source": [
    "print(new_model.predict_output_word(['prostate', 'status', 'post', 'definitive', 'radiation'], topn = 1))"
   ]
  },
  {
   "cell_type": "code",
   "execution_count": 8,
   "metadata": {},
   "outputs": [],
   "source": [
    "xl = pd.ExcelFile(\"disease_names_synonyms_AAA.xlsx\")"
   ]
  },
  {
   "cell_type": "code",
   "execution_count": 14,
   "metadata": {},
   "outputs": [],
   "source": [
    "df = xl.parse(\"Sheet1\")"
   ]
  },
  {
   "cell_type": "code",
   "execution_count": 21,
   "metadata": {},
   "outputs": [],
   "source": [
    "df_diseases = df[['Name','Synonym_1','Synonym_2','Synonym_3','Synonym_4']]"
   ]
  },
  {
   "cell_type": "code",
   "execution_count": 27,
   "metadata": {},
   "outputs": [],
   "source": [
    "all_diseases = {}\n",
    "\n",
    "for disease in df.Name:\n",
    "    if not (disease == np.nan):\n",
    "        all_diseases[disease] = 1\n",
    "\n",
    "for disease in df.Synonym_1:\n",
    "    if not (disease == np.nan):\n",
    "        all_diseases[disease] = 1\n",
    "\n",
    "for disease in df.Synonym_2:\n",
    "    if not (disease == np.nan):\n",
    "        all_diseases[disease] = 1\n",
    "\n",
    "for disease in df.Synonym_3:\n",
    "    if not (disease == np.nan):\n",
    "        all_diseases[disease] = 1\n",
    "\n",
    "for disease in df.Synonym_4:\n",
    "    if not (disease == np.nan):\n",
    "        all_diseases[disease] = 1"
   ]
  },
  {
   "cell_type": "code",
   "execution_count": 29,
   "metadata": {
    "collapsed": true
   },
   "outputs": [],
   "source": [
    "testsentences = []\n",
    "\n",
    "for txt in df_text_test.TEXT:\n",
    "    txt1 = re.sub('[\\n]',\" \",txt)\n",
    "    txt1 = re.sub('[^A-Za-z ]+', '', txt1)\n",
    "    mywords = txt1.split()\n",
    "    # lowercase conversion\n",
    "    mywords2 = [s.lower() for s in mywords]\n",
    "    # stopword removal\n",
    "    mywordsfinal = [w for w in mywords2 if not w in stop_words]\n",
    "    testsentences.append(mywordsfinal)"
   ]
  },
  {
   "cell_type": "code",
   "execution_count": 35,
   "metadata": {
    "collapsed": true
   },
   "outputs": [],
   "source": [
    "test_examples = []\n",
    "test_correct_outputs = []\n",
    "\n",
    "for testsentence in testsentences:\n",
    "    slen = len(testsentence)\n",
    "    wordindex = np.random.randint(3, slen - 4)\n",
    "    \n",
    "    if testsentence[wordindex] in all_diseases:\n",
    "        test_correct_outputs.append(1)\n",
    "    else:\n",
    "        test_correct_outputs.append(0)\n",
    "    \n",
    "    test_examples.append(testsentence[(wordindex - 3):wordindex] + testsentence[(wordindex + 1):(wordindex + 4)])"
   ]
  },
  {
   "cell_type": "code",
   "execution_count": 38,
   "metadata": {},
   "outputs": [
    {
     "name": "stdout",
     "output_type": "stream",
     "text": [
      "['hypotensive', 'ed', 'major', 'invasive', 'procedure', 'none']\n",
      "152\n"
     ]
    }
   ],
   "source": [
    "print (test_examples[0])\n",
    "print (sum(test_correct_outputs))"
   ]
  },
  {
   "cell_type": "code",
   "execution_count": 49,
   "metadata": {},
   "outputs": [],
   "source": [
    "test_results = []\n",
    "\n",
    "for myexample in test_examples:\n",
    "    mypred = new_model.predict_output_word(myexample, topn = 100)\n",
    "    myresult = 0\n",
    "    for pred in mypred:\n",
    "        if pred[0] in all_diseases:\n",
    "            myresult = 1\n",
    "    test_results.append(myresult)"
   ]
  },
  {
   "cell_type": "code",
   "execution_count": 51,
   "metadata": {},
   "outputs": [
    {
     "name": "stdout",
     "output_type": "stream",
     "text": [
      "133\n",
      "19\n",
      "6257\n",
      "3591\n"
     ]
    }
   ],
   "source": [
    "disease_correct = 0\n",
    "disease_incorrect = 0\n",
    "nondisease_correct = 0\n",
    "nondisease_incorrect = 0\n",
    "\n",
    "for i in range(len(test_correct_outputs)):\n",
    "    if (test_results[i] == 1) and (test_correct_outputs[i] == 1):\n",
    "        disease_correct += 1\n",
    "    if (test_results[i] == 0) and (test_correct_outputs[i] == 0):\n",
    "        nondisease_correct += 1\n",
    "    if (test_results[i] == 1) and (test_correct_outputs[i] == 0):\n",
    "        nondisease_incorrect += 1\n",
    "    if (test_results[i] == 0) and (test_correct_outputs[i] == 1):\n",
    "        disease_incorrect += 1\n",
    "\n",
    "print (disease_correct)\n",
    "print (disease_incorrect)\n",
    "print (nondisease_correct)\n",
    "print (nondisease_incorrect)"
   ]
  },
  {
   "cell_type": "code",
   "execution_count": null,
   "metadata": {
    "collapsed": true
   },
   "outputs": [],
   "source": []
  }
 ],
 "metadata": {
  "kernelspec": {
   "display_name": "Python 3",
   "language": "python",
   "name": "python3"
  },
  "language_info": {
   "codemirror_mode": {
    "name": "ipython",
    "version": 3
   },
   "file_extension": ".py",
   "mimetype": "text/x-python",
   "name": "python",
   "nbconvert_exporter": "python",
   "pygments_lexer": "ipython3",
   "version": "3.6.2"
  }
 },
 "nbformat": 4,
 "nbformat_minor": 2
}
