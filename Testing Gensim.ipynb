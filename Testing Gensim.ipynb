{
 "cells": [
  {
   "cell_type": "code",
   "execution_count": 10,
   "metadata": {
    "collapsed": true
   },
   "outputs": [],
   "source": [
    "from gensim.models import Word2Vec"
   ]
  },
  {
   "cell_type": "code",
   "execution_count": 11,
   "metadata": {
    "collapsed": true
   },
   "outputs": [],
   "source": [
    "# IDEA: train Word2Vec on part of corpus for which we have labeled disease names\n",
    "#       for new data, ask Word2Vec to predict words based on surrounding context, and if\n",
    "#       it predicts a word from our labeled disease names, predict the word as a disease"
   ]
  },
  {
   "cell_type": "code",
   "execution_count": 12,
   "metadata": {
    "collapsed": true
   },
   "outputs": [],
   "source": [
    "# Some things still needed:\n",
    "#       - Correctly identifying training set\n",
    "#       - Creating a test set"
   ]
  },
  {
   "cell_type": "code",
   "execution_count": 13,
   "metadata": {
    "collapsed": true
   },
   "outputs": [],
   "source": [
    "# A few things to try:\n",
    "#       - Stemming vs no stemming\n",
    "#       - Stopword removal vs no stopword removal"
   ]
  },
  {
   "cell_type": "code",
   "execution_count": 14,
   "metadata": {
    "collapsed": true
   },
   "outputs": [],
   "source": [
    "# Simple test run for all cells below\n",
    "\n",
    "# define training data\n",
    "sentences = [['this', 'is', 'the', 'first', 'sentence', 'for', 'word2vec'],\n",
    "\t\t\t['this', 'is', 'the', 'second', 'sentence'],\n",
    "\t\t\t['yet', 'another', 'sentence'],\n",
    "\t\t\t['one', 'more', 'sentence'],\n",
    "\t\t\t['and', 'the', 'final', 'sentence']]"
   ]
  },
  {
   "cell_type": "code",
   "execution_count": 15,
   "metadata": {
    "collapsed": true
   },
   "outputs": [],
   "source": [
    "# train model\n",
    "model = Word2Vec(sentences, min_count=1)"
   ]
  },
  {
   "cell_type": "code",
   "execution_count": 16,
   "metadata": {},
   "outputs": [
    {
     "name": "stdout",
     "output_type": "stream",
     "text": [
      "Word2Vec(vocab=14, size=100, alpha=0.025)\n"
     ]
    }
   ],
   "source": [
    "# summarize the loaded model\n",
    "print(model)"
   ]
  },
  {
   "cell_type": "code",
   "execution_count": 17,
   "metadata": {},
   "outputs": [
    {
     "name": "stdout",
     "output_type": "stream",
     "text": [
      "['this', 'is', 'the', 'first', 'sentence', 'for', 'word2vec', 'second', 'yet', 'another', 'one', 'more', 'and', 'final']\n"
     ]
    }
   ],
   "source": [
    "# summarize vocabulary\n",
    "words = list(model.wv.vocab)\n",
    "print(words)"
   ]
  },
  {
   "cell_type": "code",
   "execution_count": 18,
   "metadata": {},
   "outputs": [
    {
     "name": "stdout",
     "output_type": "stream",
     "text": [
      "[ 1.1979045e-03 -2.4617594e-03  3.0379428e-03 -4.3931515e-03\n",
      "  7.5367827e-04 -3.7958794e-03 -4.9079079e-03  3.7868472e-03\n",
      " -2.2054838e-03 -4.5656911e-03  4.0909084e-03  2.1071574e-03\n",
      "  5.5827724e-04  2.2710823e-03  3.2477827e-05  2.2330747e-03\n",
      " -4.2626471e-03  1.0090796e-03  6.9845293e-04  4.3576332e-03\n",
      " -3.0159871e-03  1.8375698e-03  2.9731316e-03 -1.9725037e-03\n",
      " -7.7257515e-05  4.2118509e-03  3.0646182e-04  6.0470909e-04\n",
      "  7.9023576e-04 -2.9032212e-03  4.0991791e-03  1.4218513e-03\n",
      "  1.4487088e-04  2.6319786e-03 -4.0425020e-03 -1.7434331e-03\n",
      " -4.8055542e-03 -4.2288294e-03  4.7997488e-03  3.0888920e-03\n",
      " -1.6619776e-03  4.3058479e-03  2.4022744e-03 -1.1252671e-03\n",
      " -1.9903274e-03  4.0758299e-03 -9.5029641e-04  1.3462013e-03\n",
      " -4.2339447e-03  7.3138828e-04  4.1514011e-03  3.2759700e-03\n",
      "  2.3173508e-03  7.5067568e-04 -2.4641834e-03 -3.4370651e-03\n",
      "  1.2917391e-03  2.0453731e-04 -4.7831642e-03 -2.5302621e-03\n",
      " -1.8773470e-03  2.8503996e-03  4.2073466e-03 -2.2647227e-03\n",
      "  3.0515734e-03  9.8154671e-04 -3.8402602e-03  3.1305864e-04\n",
      "  4.0076808e-03 -1.8545701e-03  7.1480649e-04 -4.1290084e-03\n",
      "  4.9451571e-03 -3.6234807e-03  3.6616297e-03 -5.1908876e-04\n",
      " -1.7557812e-03 -4.8599122e-03 -2.9022242e-03  1.8292721e-03\n",
      " -1.1075396e-04  1.9258931e-03  3.7596382e-03  4.7706841e-03\n",
      "  4.3532550e-03 -1.8004920e-04  3.9809360e-03 -5.4236368e-04\n",
      " -3.1691184e-03 -2.9311056e-04 -4.1691642e-03  3.6530732e-04\n",
      "  1.7741069e-03  3.5285319e-03  1.1925466e-04  3.5866720e-03\n",
      "  1.7049931e-03  1.3361627e-04 -3.9110701e-03  7.9889892e-04]\n"
     ]
    },
    {
     "name": "stderr",
     "output_type": "stream",
     "text": [
      "/Users/tliu/anaconda3/lib/python3.6/site-packages/ipykernel_launcher.py:2: DeprecationWarning: Call to deprecated `__getitem__` (Method will be removed in 4.0.0, use self.wv.__getitem__() instead).\n",
      "  \n"
     ]
    }
   ],
   "source": [
    "# access vector for one word\n",
    "print(model['sentence'])"
   ]
  },
  {
   "cell_type": "code",
   "execution_count": 19,
   "metadata": {},
   "outputs": [
    {
     "name": "stdout",
     "output_type": "stream",
     "text": [
      "Word2Vec(vocab=14, size=100, alpha=0.025)\n"
     ]
    }
   ],
   "source": [
    "# save model\n",
    "model.save('model.bin')\n",
    "# load model\n",
    "new_model = Word2Vec.load('model.bin')\n",
    "print(new_model)"
   ]
  },
  {
   "cell_type": "code",
   "execution_count": null,
   "metadata": {
    "collapsed": true
   },
   "outputs": [],
   "source": []
  }
 ],
 "metadata": {
  "kernelspec": {
   "display_name": "Python 3",
   "language": "python",
   "name": "python3"
  },
  "language_info": {
   "codemirror_mode": {
    "name": "ipython",
    "version": 3
   },
   "file_extension": ".py",
   "mimetype": "text/x-python",
   "name": "python",
   "nbconvert_exporter": "python",
   "pygments_lexer": "ipython3",
   "version": "3.6.2"
  }
 },
 "nbformat": 4,
 "nbformat_minor": 2
}
