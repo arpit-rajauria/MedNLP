{
 "cells": [
  {
   "cell_type": "code",
   "execution_count": 1,
   "metadata": {
    "collapsed": true
   },
   "outputs": [],
   "source": [
    "from gensim.models import Word2Vec\n",
    "\n",
    "import pandas as pd\n",
    "from sklearn.externals import joblib\n",
    "import re\n",
    "import numpy as np"
   ]
  },
  {
   "cell_type": "code",
   "execution_count": null,
   "metadata": {
    "collapsed": true
   },
   "outputs": [],
   "source": [
    "# Read from Mimic III dataset\n",
    "dfall = pd.read_csv(\"./NOTEEVENTS.csv\")"
   ]
  },
  {
   "cell_type": "code",
   "execution_count": null,
   "metadata": {
    "collapsed": true
   },
   "outputs": [],
   "source": [
    "# Take first 10000 entries for training and next 10000 entries for testing\n",
    "df1 = dfall[:10000]\n",
    "df2 = dfall[10000:20000]"
   ]
  },
  {
   "cell_type": "code",
   "execution_count": null,
   "metadata": {
    "collapsed": true
   },
   "outputs": [],
   "source": [
    "# Save training and test set so we don't have to reread the entire Mimic III dataset again\n",
    "joblib.dump(df1,'data10.pkl')\n",
    "joblib.dump(df2,'data10_2.pkl')"
   ]
  },
  {
   "cell_type": "code",
   "execution_count": 2,
   "metadata": {
    "collapsed": true
   },
   "outputs": [],
   "source": [
    "# Loading from saved training and test set\n",
    "df = joblib.load('data10.pkl')\n",
    "df_test = joblib.load('data10_2.pkl')"
   ]
  },
  {
   "cell_type": "code",
   "execution_count": 3,
   "metadata": {
    "collapsed": true
   },
   "outputs": [],
   "source": [
    "# Identifying the first four columns\n",
    "df_text = df[['CHARTDATE','CATEGORY','DESCRIPTION','TEXT']]\n",
    "df_text_test = df_test[['CHARTDATE','CATEGORY','DESCRIPTION','TEXT']]"
   ]
  },
  {
   "cell_type": "code",
   "execution_count": 4,
   "metadata": {
    "collapsed": true
   },
   "outputs": [],
   "source": [
    "# Splitting input, converting to lowercase, and removing stopwords\n",
    "from nltk.corpus import stopwords\n",
    "\n",
    "sentences = []\n",
    "stop_words = set(stopwords.words('english'))\n",
    "\n",
    "for txt in df_text.TEXT:\n",
    "    txt1 = re.sub('[\\n]',\" \",txt)\n",
    "    txt1 = re.sub('[^A-Za-z ]+', '', txt1)\n",
    "    mywords = txt1.split()\n",
    "    # lowercase conversion\n",
    "    mywords2 = [s.lower() for s in mywords]\n",
    "    # stopword removal\n",
    "    mywordsfinal = [w for w in mywords2 if not w in stop_words]\n",
    "    sentences.append(mywordsfinal)"
   ]
  },
  {
   "cell_type": "code",
   "execution_count": 5,
   "metadata": {
    "collapsed": true
   },
   "outputs": [],
   "source": [
    "# train model\n",
    "model = Word2Vec(sentences, min_count=1)"
   ]
  },
  {
   "cell_type": "code",
   "execution_count": 6,
   "metadata": {},
   "outputs": [
    {
     "name": "stdout",
     "output_type": "stream",
     "text": [
      "Word2Vec(vocab=80296, size=100, alpha=0.025)\n"
     ]
    }
   ],
   "source": [
    "# summarize the loaded model\n",
    "print(model)"
   ]
  },
  {
   "cell_type": "code",
   "execution_count": 8,
   "metadata": {},
   "outputs": [
    {
     "name": "stdout",
     "output_type": "stream",
     "text": [
      "[ 1.2509873e+00 -9.6305281e-01  1.3721237e+00  2.8473589e+00\n",
      "  2.8971467e+00  2.2011979e+00  1.1478058e+00 -3.0994160e+00\n",
      "  2.3493876e+00 -3.2954478e+00 -3.5761768e-01 -3.9191098e+00\n",
      "  5.2294856e-01 -1.8996678e-04 -2.8025994e+00 -2.8875210e+00\n",
      " -1.2023911e+00 -4.1957664e+00  1.8169845e+00  3.7110291e+00\n",
      " -2.4828880e+00  8.8331610e-01  1.1222864e+00 -1.3904045e+00\n",
      "  8.4261829e-01  8.5373676e-01  2.3549817e+00 -4.1269212e+00\n",
      " -1.3950155e+00 -1.7305713e+00  2.8717198e+00 -2.0229577e-01\n",
      " -9.6777368e-01 -1.5844293e+00  4.7527674e-01 -2.6853926e+00\n",
      "  3.3484895e+00  1.4967873e+00  1.9704129e+00 -1.4775780e+00\n",
      " -3.7606511e-02 -3.3936349e-01 -3.5885308e+00 -1.3591757e+00\n",
      " -8.8212341e-01  6.4079103e+00 -7.3442745e-01  2.0794433e-01\n",
      " -2.1207695e+00  2.8285511e+00  2.9344249e-01  2.1233919e+00\n",
      "  1.0667479e+00 -1.5349110e+00 -9.2842424e-01 -1.2911180e+00\n",
      " -9.2309093e-01 -2.7894027e+00 -7.9069728e-01  1.3244954e+00\n",
      "  4.0246825e+00  1.1276380e+00  3.0100033e-01 -1.9238749e+00\n",
      " -4.7430444e+00 -2.3012187e+00 -3.4296426e-01  9.5229232e-01\n",
      " -4.0844116e-01 -8.9074999e-01  1.7731972e+00  6.9629866e-01\n",
      " -5.9830409e-02  4.4330318e-02  2.0387933e+00 -3.2960367e-01\n",
      " -1.0874798e-02  9.3425214e-01 -7.4380279e-01 -1.1834130e+00\n",
      "  1.8675673e+00 -1.1890494e+00 -1.6320407e+00 -1.9894131e+00\n",
      " -1.2572882e+00 -2.0167394e+00  1.3159742e+00 -1.1327988e+00\n",
      "  2.7959936e+00  3.0625021e+00  1.5729407e+00  3.0061927e+00\n",
      " -2.7434831e+00 -5.3475851e-01  9.2902541e-01  1.1484100e+00\n",
      " -1.0283853e+00 -1.4118473e-01  5.0245390e+00  1.8341571e+00]\n"
     ]
    },
    {
     "name": "stderr",
     "output_type": "stream",
     "text": [
      "/Users/tliu/anaconda3/lib/python3.6/site-packages/ipykernel_launcher.py:2: DeprecationWarning: Call to deprecated `__getitem__` (Method will be removed in 4.0.0, use self.wv.__getitem__() instead).\n",
      "  \n"
     ]
    }
   ],
   "source": [
    "# access vector for one word\n",
    "print(model['diabetes'])"
   ]
  },
  {
   "cell_type": "code",
   "execution_count": 9,
   "metadata": {
    "collapsed": true
   },
   "outputs": [],
   "source": [
    "# save model so we don't have to recompute it every time\n",
    "model.save('model.bin')"
   ]
  },
  {
   "cell_type": "code",
   "execution_count": 10,
   "metadata": {},
   "outputs": [
    {
     "name": "stdout",
     "output_type": "stream",
     "text": [
      "Word2Vec(vocab=80296, size=100, alpha=0.025)\n"
     ]
    }
   ],
   "source": [
    "# load model\n",
    "new_model = Word2Vec.load('model.bin')\n",
    "print(new_model)"
   ]
  },
  {
   "cell_type": "code",
   "execution_count": 11,
   "metadata": {},
   "outputs": [
    {
     "name": "stdout",
     "output_type": "stream",
     "text": [
      "[('infectious', 0.9999976)]\n"
     ]
    }
   ],
   "source": [
    "# given context disease, predict a word\n",
    "print(new_model.predict_output_word(['disease'], topn = 1))"
   ]
  },
  {
   "cell_type": "code",
   "execution_count": 12,
   "metadata": {},
   "outputs": [
    {
     "name": "stdout",
     "output_type": "stream",
     "text": [
      "[('dibetes', 0.7324691414833069), ('dependentdiabetes', 0.7132846117019653), ('diabtes', 0.6703452467918396), ('dm', 0.668785035610199), ('mellitus', 0.6328900456428528), ('diabete', 0.6298532485961914), ('noninsulin', 0.6298023462295532), ('insulindependent', 0.6017777919769287), ('noninsulindependent', 0.5867738127708435), ('triopathy', 0.5733495950698853)]\n"
     ]
    }
   ],
   "source": [
    "# given diabetes, return the top 10 most similar words\n",
    "print (new_model.wv.most_similar(['diabetes'], topn = 10))"
   ]
  },
  {
   "cell_type": "code",
   "execution_count": 13,
   "metadata": {},
   "outputs": [
    {
     "name": "stdout",
     "output_type": "stream",
     "text": [
      "Admission Date:  [**2116-11-16**]              Discharge Date:   [**2116-11-20**]\n",
      "\n",
      "Date of Birth:  [**2035-12-10**]             Sex:   M\n",
      "\n",
      "Service: MEDICINE\n",
      "\n",
      "Allergies:\n",
      "Sulfonamides / Iodine; Iodine Containing / Influenza Virus\n",
      "Vaccine\n",
      "\n",
      "Attending:[**First Name3 (LF) 6195**]\n",
      "Chief Complaint:\n",
      "Found down, hypotensive in the ED\n",
      "\n",
      "\n",
      "Major Surgical or Invasive Procedure:\n",
      "None\n",
      "\n",
      "\n",
      "History of Present Illness:\n",
      "80 yo man with history of neuroendocrine tumor s/p colostomy and\n",
      "chemotherapy, paroximal atrial fibrillation on coumadin who\n",
      "presents being found down by wife. [**Name (NI) **] had been feeling weak for\n",
      "4 days. Then today, he was taking his sock off when he slipped\n",
      "off the bed and fell to floor. His wife reports that he did not\n",
      "hit his head.  He was unable to crawl to phone to call 911. His\n",
      "wife arrived after approximately 3 hours and called EMS. BP\n",
      "initially 140/90.\n",
      ".\n",
      "In the ED: VS 102.4, 150/88, HR 94, RR16, 98% RA, EKG no change\n",
      "per ED (not avail). Labs: lactate 1.0, Creatinine, Hct at\n",
      "baseline. WBC 9.7, up from baseline 4.0. U/A neg and CXR w ? RLL\n",
      "infiltrate per ED res. Trop 0.04 (baseline). Cultures and flu\n",
      "test drawn. He received cipro, flagyl, 1gm tylenol. Then SBP\n",
      "dropped to 80s. Given 3L IVF and added ceftriaxone 2gm IV once.\n",
      "SBP up to 100 (baseline 150).\n",
      ".\n",
      "Currently, reports persistent bilateral proximal upper extremity\n",
      "weakness x 1-2 weeks.  He did have a fall 2 weeks prior and\n",
      "caught himself with his arms.  Did not note increased pain\n",
      "immediately, but in the days following.  Has been using arms\n",
      "less, which could explain some deconditioning, but he thinks\n",
      "there may be an additional cause. He reports good compliance\n",
      "with medications. No head pain, no meningismus, no photophobia.\n",
      "POS rhinorrhea but no cough, URI-like sx.  No chest pain, sob,\n",
      "palpitations, abd pain, fevers. No increased diarrhea or\n",
      "constipation. POS chills x1-2 weeks. POS upper ex prox weakness\n",
      "x1-2 weeks. No dysuria.\n",
      "\n",
      "Past Medical History:\n",
      "1. Prostate cancer status post definitive radiation treatment\n",
      "from [**1-/2113**] to 05/[**2112**]. This treatment was delivered under the\n",
      "care of Dr. [**Last Name (STitle) 656**] here at [**Hospital1 18**] and Dr. [**Last Name (STitle) 9125**] of urology.\n",
      "2. Cardiomyopathy, echo [**12-3**]: EF 60%.\n",
      "3. Atrial fibrillation, s/p pacemaker, on coumadin\n",
      "4. Hiatal hernia.\n",
      "5. Diverticular disease status post a diverticular stricture\n",
      "status post low anterior resection by Dr. [**Last Name (STitle) **] here at [**Hospital1 18**]\n",
      "6. Neuroendocrine rectal cancer dx [**2115-6-29**]. per heme/onc\n",
      "notes: \"s/p two cycles of cisplatin and etoposide following his\n",
      "surgery prior to which he had also received the same regimen\n",
      "with a good response. Recently, he was found on a followup CT\n",
      "scan to have what appeared to be a recurrence of his disease.\n",
      "However, the nature of this recurrence was not clear, and he\n",
      "recently underwent a biopsy of a pelvic mass which does not show\n",
      "any evidence of malignancy. In addition, his PSA has been rising\n",
      "as well which in [**1-/2116**] was 3.5 and then in [**4-/2116**] was 5.3 and\n",
      "most recently on [**2116-5-29**] was 6.1.\"\n",
      "\n",
      "\n",
      "Social History:\n",
      "Married, 5 children, lives in [**Location **]. Retired police\n",
      "commander.  Quit tobacco 30yrs ago. No current EtOH.\n",
      "\n",
      "\n",
      "Family History:\n",
      "Family history is unremarkable for colorectal cancer.  His\n",
      "father had esophageal cancer but was a heavy smoker.  His\n",
      "paternal aunt had stomach cancer.\n",
      "\n",
      "Physical Exam:\n",
      "VS: 98.5 144/84 HR 90 97% RA, RR 17\n",
      "GEN: NAD, comfortable, interactive,\n",
      "NEURO\n",
      "- alert to person, place, time, situation\n",
      "- CN ii-xii intact\n",
      "- motor: [**5-2**] bilat upper distal. [**3-2**] upper right prox, [**4-2**] upper\n",
      "left prox. [**5-2**] bilat lower distal/prox strength\n",
      "- [**Last Name (un) 36**] intact light touch\n",
      "- reflexes: toes down, 1+ ankle, knees, brachiorad bilat\n",
      "HEENT: MM dry, PERRLA, anicteric, JVP flat\n",
      "CARDS: irreg, no murmurs, no heave\n",
      "LUNGS: no wheeze, no crackles, clear, nl effort\n",
      "ABD: incision midline, colostomy left lower ex with yellow/brown\n",
      "stool. BS+ NT ND, no hepatomeg, no rebound\n",
      "EXT: no edema, DP 2+ bilat, no palpable cord or assymetry\n",
      "GROIN: erythematous rash w satellites\n",
      "SKIN: no hematomas. 18 [**Doctor Last Name **] 20g IVs\n",
      "OB: trace positive\n",
      "\n",
      "Pertinent Results:\n",
      "[**2116-11-16**] 03:00PM   WBC-9.7# RBC-4.38* HGB-13.3* HCT-37.7* MCV-86\n",
      "MCH-30.5 MCHC-35.4* RDW-14.0\n",
      "[**2116-11-16**] 03:00PM   NEUTS-90.3* LYMPHS-5.4* MONOS-3.8 EOS-0.3\n",
      "BASOS-0.1\n",
      "[**2116-11-16**] 03:00PM   PT-24.1* PTT-36.8* INR(PT)-2.4*\n",
      "[**2116-11-16**] 03:00PM   ALT(SGPT)-16 AST(SGOT)-37 LD(LDH)-289* ALK\n",
      "PHOS-97 AMYLASE-24 TOT BILI-0.7\n",
      "[**2116-11-16**] 03:00PM   GLUCOSE-120* UREA N-29* CREAT-1.5*\n",
      "SODIUM-130* POTASSIUM-4.4 CHLORIDE-96 TOTAL CO2-22 ANION GAP-16\n",
      "[**2116-11-16**] 09:29PM   TSH-0.24*\n",
      "[**2116-11-16**] 05:20PM URINE  BLOOD-LG NITRITE-NEG PROTEIN-30\n",
      "GLUCOSE-NEG KETONE-NEG BILIRUBIN-NEG UROBILNGN-NEG PH-5.0\n",
      "LEUK-NEG\n",
      ".\n",
      "[**2116-11-19**] 9:34 AM  CT CHEST W/CONTRAST; CT ABD W&W/O C\n",
      "CHEST: Note is made of goiter with calcification and multiple\n",
      "small nodules, unchanged since prior study. There is significant\n",
      "mediastinal and hilar lymphadenopathy. The lymph node in\n",
      "pretracheal measures 12 mm in short axis, and the right hilar\n",
      "node measures 22 mm in short axis, and subcarinal node measures\n",
      "42 x 26 mm. These lymph nodes are overall slightly increased in\n",
      "size since prior study. The heart is moderately enlarged, and\n",
      "there is dense calcification of the coronary arteries. There is\n",
      "small bilateral pleural effusion, new since prior study.\n",
      "Calcified pleural plaque is again noted, suggestive of prior\n",
      "asbestos exposure. There is a large hiatal hernia. In the lung\n",
      "window, note is made of new patchy consolidation in the right\n",
      "lower lobe, associated with interlobular septal thickening and\n",
      "faint ground-glass opacities, suspicious for pneumonia or\n",
      "aspiration/aspiration pneumonia or hemorrhage if the patient has\n",
      "hemoptysis. There are several patchy nodules without\n",
      "calcification measuring up to 8 mm in the right upper lobe,\n",
      "overall unchanged since prior study. No endobronchial lesion is\n",
      "noted.\n",
      "\n",
      "ABDOMEN: There are multiple hypoattenuating foci in the liver as\n",
      "noted on the prior study, likely representing cysts. There are\n",
      "several other ill-defined hypoattenuating foci, one in segment\n",
      "IV and the other in segment VI, for which metastasis cannot be\n",
      "totally excluded. However the evaluation for these liver lesions\n",
      "is limited on this single-phase study. There is no intrahepatic\n",
      "ductal dilatation. Portal vein is patent. Spleen is normal.\n",
      "Again note is made of enlarged left adrenal gland likely\n",
      "representing adenoma. Right adrenal gland is within normal\n",
      "limits. Pancreas is atrophic, with prominent main pancreatic\n",
      "duct measuring up to 3 mm, unchanged since prior study. CBD\n",
      "measures 9 mm. Gallbladder is contracted without evidence of\n",
      "calcification. There is no ascites or fluid collection. There is\n",
      "no significant lymphadenopathy in the abdomen. There are\n",
      "multiple hypoattenuating foci in the kidneys, likely\n",
      "representing cysts, without hydronephrosis or suspiciously\n",
      "enhancing mass. The visualized portions of large and small\n",
      "intestines are within normal limits with ileostomy. There is a\n",
      "2.0 cm enhancing nodule in the right subcutaneous tissues in the\n",
      "back at the level of L2, representing increased metastasis.\n",
      "\n",
      "PELVIS: Again note is made of large heterogeneous masses lateral\n",
      "to the right psoas muscle measuring 88 x 69 mm, and other\n",
      "mesenteric metastasis on the left measuring 39 x 37 mm (series\n",
      "3: image 89), increased in size since prior study. There is no\n",
      "free fluid or significant lymphadenopathy. There are tiny\n",
      "bladder diverticula with air in the diverticula and in the\n",
      "urinary bladder.\n",
      "\n",
      "Degenerative changes of thoracolumbar spine are again noted.\n",
      "There is severe scoliosis. Again note is made of thickened\n",
      "trabecula and cortex in the right ilium and sacrum, as seen\n",
      "since [**2112**], consistent with Paget disease. In the region of\n",
      "Paget disease, it is difficult to exclude new metastasis,\n",
      "however, otherwise, no suspicious lytic or blastic lesion is\n",
      "noted.\n",
      "\n",
      "IMPRESSION:\n",
      "1. Slight increase in size of mediastinal and hilar\n",
      "lymphadenopathy as well as increase in size of intraperitoneal\n",
      "metastatic masses. 2.0-cm subcutaneous nodule in the posterior\n",
      "right back at the level of L2 increased in size since prior\n",
      "study, also representing metastasis.\n",
      "2. Multiple hypoattenuating foci in the liver, likely\n",
      "representing cysts. Two other ill-defined foci, which are\n",
      "equivocal, however, metastasis cannot be totally excluded for\n",
      "these findings. Please consider dedicated liver imaging if\n",
      "indicated.\n",
      "3. Unchanged left adrenal adenoma.\n",
      "4. New bilateral pleural effusion with underlying calcified\n",
      "plaques, and new patchy consolidation in the right lower lobe\n",
      "with surrounding faint ground- glass opacity, suspicious for\n",
      "pneumonia or aspiration versus aspiration pneumonia, or\n",
      "hemorrhage if the patient has hemoptysis. Please correlate\n",
      "clinically.\n",
      "5. Overall unchanged noncalcified small nodule in bilateral\n",
      "lungs, measuring up to 8 mm.\n",
      "6. Degenerative changes and Paget disease in the pelvis. With\n",
      "the underlying Paget disease, it is difficult to exclude new\n",
      "metastasis in this location, however, no obvious suspicious new\n",
      "lytic or blastic lesion is noted.\n",
      "\n",
      "Brief Hospital Course:\n",
      "A/P: 80yo man with hx of neuroendocrine colon ca s/p resection\n",
      "and chemo now with recurrence, prostate cancer, atrial\n",
      "fibrillation on coumadin here with 1-2 weeks of proximal UE\n",
      "weakness, decreased PO x 4 days, and hypotensive episode in the\n",
      "ED. He was febrile but improved with 3L IVF.\n",
      ".\n",
      "# Hypotension: Transient (<1h) in the ED but after having a\n",
      "fever to 102.4. Infectious etiologies possible and initially no\n",
      "localizing symptoms.  Assessed for adrenal insufficiency (but\n",
      "denies history of steroid use), cardiogenic (but no CP, SOB and\n",
      "EKG reportedly unchanged), allergic (no new medications),\n",
      "hypovolemia [**1-31**] poor intake, blood loss (hct at baseline).\n",
      "Resolved with IVF, ROMI completed with 3 negative CEs.  Stable\n",
      "since initial hypotensive episode.  CT evaluation revealed\n",
      "probable pneumonia, and was treated with antibiotics.\n",
      ".\n",
      "# Mechanical Fall: Patient AAOx3 and good historian. Wife\n",
      "confirms story.  Given history of colon ca, found down, and INR\n",
      "2.4, head CT performed and revealed no evidence of hemorrhage.\n",
      "Rule-out completed for acute MI.  States he has unsteady gait,\n",
      "with both cane and walker at home, which he doesn't use.  States\n",
      "he will use cane in the future.  PT consulted - recommended d/c\n",
      "home with continued therapy\n",
      ".\n",
      "# Fever: Negative ROS for localizing symptoms.  Received cipro,\n",
      "flagyl, ceftriaxone in ED. [**11-17**]: Spiked temp with some rigors.\n",
      "Empirically started levo/flagyl. DFA flu negative. Blood cx with\n",
      "1/4 bottles GPC indicating likely contaminant but given\n",
      "hypotension and fever, started Vancomycin despite minimal\n",
      "bottles being positive.  C.dif checked and negative.\n",
      "Levo/flagyl discontinued.  Speciation of blood cultures\n",
      "consistent with contaminant.  CT findings suggestive of PNA\n",
      "though continued to have minimal symptoms.  Discharged on\n",
      "levoquin for a 10 day course.\n",
      ".\n",
      "# Atrial fibrillation - s/p pacer on coumadin.  Coumadin\n",
      "continued and INR monitored throughout his stay.\n",
      ".\n",
      "# HTN: Continued on beta blocker.  Lisinopril held due to\n",
      "hypotension and poor renal function.  Well controlled during\n",
      "stay with only beta blocker.  Discharged with instruction to\n",
      "follow-up with PCP to discuss continued management.\n",
      ".\n",
      "# Acute Renal Failure: Baseline creatinine 1.3, elevated on\n",
      "admit.  Thought to be c/w with prerenal.  Urine lytes sent for\n",
      "confirmation.  Rehydrated with IVF and creatinine monitored.\n",
      "Resolved to baseline and discharged with confirmed complete\n",
      "resolution.\n",
      ".\n",
      "# Proximal muscle weakness: For 1-2 weeks s/p mechanical fall\n",
      "and catching himself with his arms extended. DDx includes\n",
      "deconditioning [**1-31**] pain, polymyalgia rheumatica, vasculititis,\n",
      "hypothyroidism, fibromyalgia, malignancy, and rhabdomyolysis.\n",
      "Elevated ESR & CRP.  TSH slight below normal, free T4 normal.\n",
      "By discharge had symmetric strength on exam, nonpainful.  [**Doctor First Name **]\n",
      "negative.  Suspect likely due to deconditioning.  CK monitored\n",
      "and downward trending on discharge.  Sent with home PT and\n",
      "follow-up with primary care physician.\n",
      ".\n",
      "# Neuroendocrine tumor: Dr. [**Last Name (STitle) **] [**Name (NI) 653**] and saw patient while\n",
      "in the hospital.   CT torso completed to assess for further\n",
      "metastases, and new lesions were seen.  These findings were\n",
      "discussed with Mr. [**Known lastname 28553**].  Catecholamines were checked, and\n",
      "pending on discharge.  On discharge he had follow-up\n",
      "appointments for lesion biopsy and to discuss these results with\n",
      "Dr. [**Last Name (STitle) **].\n",
      ".\n",
      "# Groin rash: Noted on admit, stated to have been there for [**12-31**]\n",
      "weeks.  Appears fungal.  Treated with miconazole cream PRN with\n",
      "improvement.  Was discharged with this medication and\n",
      "instruction to follow-up with his primary care should it not\n",
      "resolve.\n",
      ".\n",
      "# Anemia: HCT stable.  Will work-up various etiologies including\n",
      "decreased production; lysis or loss.  Stable throughout stay.\n",
      "Stools were guaiac negative, no evidence of lysis on labs.  To\n",
      "follow-up with primary care physician.\n",
      ".\n",
      "# History of prostate cancer: Flomax held on admission given\n",
      "hypotension, but restarted when became normotensive.  Unclear\n",
      "whether lesions on CT represent recurrence of prostate cancer or\n",
      "neuroendocrine tumor.  To follow-up with Dr. [**Last Name (STitle) **], after tissue\n",
      "biopsy within the next month.\n",
      "\n",
      "\n",
      "Medications on Admission:\n",
      "colace [**Hospital1 **] prn\n",
      "coumadin 2mg daily but 1mg tues/fri\n",
      "enalapril 10mg [**Hospital1 **]\n",
      "flomax 0.8mg qhs\n",
      "toprol XL 25mg [**Hospital1 **]\n",
      "Vitamin C\n",
      "Iron\n",
      "\n",
      "\n",
      "Discharge Medications:\n",
      "1. Colace 100 mg Capsule Sig: One (1) Capsule PO twice a day.\n",
      "2. Enalapril Maleate 10 mg Tablet Sig: One (1) Tablet PO twice a\n",
      "day.- INSTRUCTED TO HOLD until discussion with PCP\n",
      "3. Metoprolol Succinate 25 mg Tablet Sustained Release 24 hr\n",
      "Sig: One (1) Tablet Sustained Release 24 hr PO BID (2 times a\n",
      "day).\n",
      "4. Tamsulosin 0.4 mg Capsule, Sust. Release 24 hr Sig: Two (2)\n",
      "Capsule, Sust. Release 24 hr PO HS (at bedtime).\n",
      "5. Warfarin 2 mg Tablet Sig: One (1) Tablet PO at bedtime.\n",
      "6. Vitamin C 500 mg Tablet Sig: One (1) Tablet PO once a day.\n",
      "7. Iron 325 (65) mg Tablet Sig: One (1) Tablet PO once a day.\n",
      "8. Levofloxacin 250 mg Tablet Sig: Three (3) Tablet PO Q48H\n",
      "(every 48 hours) for 8 days.\n",
      "Disp:*12 Tablet(s)* Refills:*0*\n",
      "9. Miconazole Nitrate 2 % Cream Sig: One (1) application Topical\n",
      "twice a day as needed for rash for 7 days.\n",
      "Disp:*1 Tube* Refills:*0*\n",
      "\n",
      "\n",
      "Discharge Disposition:\n",
      "Home With Service\n",
      "\n",
      "Facility:\n",
      "VNA caregroup\n",
      "\n",
      "Discharge Diagnosis:\n",
      "Primary: Mechanical fall, pneumonia\n",
      "Secondary: Prostate cancer, cardiomyopathy, atrial fibrillation,\n",
      "diverticular disease, neuroendocrine rectal cancer s/p LAR\n",
      "\n",
      "\n",
      "Discharge Condition:\n",
      "Hemodynamically stable, afebrile and ready for continued\n",
      "outpatient PT\n",
      "\n",
      "\n",
      "Discharge Instructions:\n",
      "You were admitted after being found down, after falling.  You\n",
      "were found to have an episode of low blood pressure which\n",
      "resolved with fluid administration.  You were also found to have\n",
      "pneumonia.  You are being discharged on antibiotics for this.\n",
      "You were also evaluated by CT imaging for extension of your\n",
      "cancer, you should follow up with Dr. [**Last Name (STitle) **] for further\n",
      "evaluation of this ongoing issue.\n",
      ".\n",
      "Please continue to take all medications as prescribed.  In\n",
      "addition to your regular medications you have been given an\n",
      "antibiotic, levoquin, for an additional 8 days.\n",
      ".\n",
      "Please keep all your outpatient appointments.\n",
      ".\n",
      "Please return to the ED or contact your regular physician if\n",
      "your notice worsening cough, bloody sputum, fevers/chill,\n",
      "vomiting, loose stools or for any other symptom which is\n",
      "concerning to you.\n",
      "\n",
      "Followup Instructions:\n",
      "Dr.[**Name (NI) 11574**] office will contact you to schedule a follow-up\n",
      "appointment in the next 1-2 weeks.  His office number is\n",
      "[**Telephone/Fax (1) 250**] if you would like to contact them yourself.\n",
      ".\n",
      "For your upcoming biopsy you need to check in at:\n",
      "Provider: [**Name10 (NameIs) 454**],TWO [**Name10 (NameIs) 454**]\n",
      "Date/Time:[**2116-12-1**] at 9:00AM\n",
      ".\n",
      "Provider: [**Name10 (NameIs) **] SCAN scheduled for biopsy\n",
      "Phone:[**Telephone/Fax (1) 327**]\n",
      "Date/Time:[**2116-12-1**] at 10:30AM\n",
      ".\n",
      "To discuss the results of your biopsy:\n",
      "Provider: [**Name10 (NameIs) **] [**Name8 (MD) **], MD\n",
      "Phone:[**Telephone/Fax (1) 22**]\n",
      "Date/Time:[**2116-12-11**] at 9:30AM\n",
      "\n",
      "\n",
      "                             [**First Name11 (Name Pattern1) **] [**Last Name (NamePattern4) 6198**] MD, [**MD Number(3) 6199**]\n",
      "\n",
      "\n"
     ]
    }
   ],
   "source": [
    "# display the text from the first medical note in the test set\n",
    "print ((df_text_test.TEXT)[10000])"
   ]
  },
  {
   "cell_type": "code",
   "execution_count": 14,
   "metadata": {},
   "outputs": [
    {
     "name": "stdout",
     "output_type": "stream",
     "text": [
      "[('cancer', 0.029171577)]\n"
     ]
    }
   ],
   "source": [
    "# Testing for the line \"1. Prostate cancer status post definitive radiation treatment\"\n",
    "# that was found in the first test text above\n",
    "\n",
    "# it returns cancer, which is the exact missing word, as the top prediction\n",
    "print(new_model.predict_output_word(['prostate', 'status', 'post', 'definitive', 'radiation'], topn = 1))"
   ]
  },
  {
   "cell_type": "code",
   "execution_count": 16,
   "metadata": {
    "collapsed": true
   },
   "outputs": [],
   "source": [
    "# Read in 300 disease names\n",
    "xl = pd.ExcelFile(\"disease_names_synonyms_AAA.xlsx\")\n",
    "df = xl.parse(\"Sheet1\")"
   ]
  },
  {
   "cell_type": "code",
   "execution_count": 17,
   "metadata": {
    "collapsed": true
   },
   "outputs": [],
   "source": [
    "# Define the first 5 columns\n",
    "df_diseases = df[['Name','Synonym_1','Synonym_2','Synonym_3','Synonym_4']]"
   ]
  },
  {
   "cell_type": "code",
   "execution_count": 18,
   "metadata": {
    "collapsed": true
   },
   "outputs": [],
   "source": [
    "# Get all non-NaN entries to form a disease dictionary\n",
    "all_diseases = {}\n",
    "\n",
    "for disease in df.Name:\n",
    "    if not (disease == np.nan):\n",
    "        all_diseases[disease] = 1\n",
    "\n",
    "for disease in df.Synonym_1:\n",
    "    if not (disease == np.nan):\n",
    "        all_diseases[disease] = 1\n",
    "\n",
    "for disease in df.Synonym_2:\n",
    "    if not (disease == np.nan):\n",
    "        all_diseases[disease] = 1\n",
    "\n",
    "for disease in df.Synonym_3:\n",
    "    if not (disease == np.nan):\n",
    "        all_diseases[disease] = 1\n",
    "\n",
    "for disease in df.Synonym_4:\n",
    "    if not (disease == np.nan):\n",
    "        all_diseases[disease] = 1"
   ]
  },
  {
   "cell_type": "code",
   "execution_count": 19,
   "metadata": {
    "collapsed": true
   },
   "outputs": [],
   "source": [
    "# Process all text in test set by splitting, doing lowercase conversion, and stopword removal\n",
    "testsentences = []\n",
    "\n",
    "for txt in df_text_test.TEXT:\n",
    "    txt1 = re.sub('[\\n]',\" \",txt)\n",
    "    txt1 = re.sub('[^A-Za-z ]+', '', txt1)\n",
    "    mywords = txt1.split()\n",
    "    # lowercase conversion\n",
    "    mywords2 = [s.lower() for s in mywords]\n",
    "    # stopword removal\n",
    "    mywordsfinal = [w for w in mywords2 if not w in stop_words]\n",
    "    testsentences.append(mywordsfinal)"
   ]
  },
  {
   "cell_type": "code",
   "execution_count": 20,
   "metadata": {
    "collapsed": true
   },
   "outputs": [],
   "source": [
    "# Produce actual testing data by selecting a word from each medical note, and storing\n",
    "# surrounding context words, as well as a label for whether the selected word was found\n",
    "# in the disease dictionary\n",
    "test_examples = []\n",
    "test_correct_outputs = []\n",
    "\n",
    "cutoffindex = 0\n",
    "for testsentence in testsentences:\n",
    "    slen = len(testsentence)\n",
    "    \n",
    "    diseasefound = False\n",
    "    \n",
    "    wordindex = 0\n",
    "    \n",
    "    # For first 5000 medical notes, try and find a disease from the selected word\n",
    "    if cutoffindex < 5000:\n",
    "    \n",
    "        wordindex = 3\n",
    "    \n",
    "        while wordindex < (slen - 4):\n",
    "            if testsentence[wordindex] in all_diseases:\n",
    "                diseasefound = True\n",
    "                break\n",
    "            wordindex += 1\n",
    "    \n",
    "    # Pick a random word with at least 3 words before and after it in the text\n",
    "    if not diseasefound:\n",
    "        wordindex = np.random.randint(3, slen - 4)\n",
    "    \n",
    "    if testsentence[wordindex] in all_diseases:\n",
    "        test_correct_outputs.append(1)\n",
    "    else:\n",
    "        test_correct_outputs.append(0)\n",
    "    \n",
    "    # take the surrounding context words as the 3 words before and after it\n",
    "    test_examples.append(testsentence[(wordindex - 3):wordindex] + testsentence[(wordindex + 1):(wordindex + 4)])\n",
    "    \n",
    "    cutoffindex += 1"
   ]
  },
  {
   "cell_type": "code",
   "execution_count": 21,
   "metadata": {},
   "outputs": [
    {
     "name": "stdout",
     "output_type": "stream",
     "text": [
      "['iodine', 'iodine', 'containing', 'virus', 'vaccine', 'attendingfirst']\n",
      "4914\n"
     ]
    }
   ],
   "source": [
    "# Making sure the first test data looks OK\n",
    "print (test_examples[0])\n",
    "# Print out number of positive examples (examples for which the selected word was in the\n",
    "# disease dicitonary), it should be close to 5000\n",
    "print (sum(test_correct_outputs))"
   ]
  },
  {
   "cell_type": "code",
   "execution_count": 22,
   "metadata": {
    "collapsed": true
   },
   "outputs": [],
   "source": [
    "# Testing model on created test data\n",
    "test_results = []\n",
    "\n",
    "for myexample in test_examples:\n",
    "    # topn is the number of predictions the model outputs, both values of 1 and 10\n",
    "    # were tried\n",
    "    mypred = new_model.predict_output_word(myexample, topn = 1)\n",
    "    myresult = 0\n",
    "    # if any of the topn predictions is found in the disease dictionary, the result is\n",
    "    # labeled as a disease prediction\n",
    "    for pred in mypred:\n",
    "        if pred[0] in all_diseases:\n",
    "            myresult = 1\n",
    "    test_results.append(myresult)"
   ]
  },
  {
   "cell_type": "code",
   "execution_count": 24,
   "metadata": {},
   "outputs": [
    {
     "name": "stdout",
     "output_type": "stream",
     "text": [
      "687\n",
      "4227\n",
      "4979\n",
      "107\n"
     ]
    }
   ],
   "source": [
    "# Counting up true/false positives and true/false negatives\n",
    "disease_correct = 0 # True positive\n",
    "disease_incorrect = 0 # False negative\n",
    "nondisease_correct = 0 # True negative\n",
    "nondisease_incorrect = 0 # False positive\n",
    "\n",
    "for i in range(len(test_correct_outputs)):\n",
    "    if (test_results[i] == 1) and (test_correct_outputs[i] == 1):\n",
    "        disease_correct += 1\n",
    "    if (test_results[i] == 0) and (test_correct_outputs[i] == 0):\n",
    "        nondisease_correct += 1\n",
    "    if (test_results[i] == 1) and (test_correct_outputs[i] == 0):\n",
    "        nondisease_incorrect += 1\n",
    "    if (test_results[i] == 0) and (test_correct_outputs[i] == 1):\n",
    "        disease_incorrect += 1\n",
    "\n",
    "print (disease_correct)\n",
    "print (disease_incorrect)\n",
    "print (nondisease_correct)\n",
    "print (nondisease_incorrect)"
   ]
  },
  {
   "cell_type": "code",
   "execution_count": null,
   "metadata": {
    "collapsed": true
   },
   "outputs": [],
   "source": []
  }
 ],
 "metadata": {
  "kernelspec": {
   "display_name": "Python 3",
   "language": "python",
   "name": "python3"
  },
  "language_info": {
   "codemirror_mode": {
    "name": "ipython",
    "version": 3
   },
   "file_extension": ".py",
   "mimetype": "text/x-python",
   "name": "python",
   "nbconvert_exporter": "python",
   "pygments_lexer": "ipython3",
   "version": "3.6.2"
  }
 },
 "nbformat": 4,
 "nbformat_minor": 2
}
